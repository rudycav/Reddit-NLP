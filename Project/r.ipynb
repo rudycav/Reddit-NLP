{
  "nbformat": 4,
  "nbformat_minor": 0,
  "metadata": {
    "colab": {
      "provenance": [],
      "authorship_tag": "ABX9TyOLjAyWCwdz/8tCEu+keh+A",
      "include_colab_link": true
    },
    "kernelspec": {
      "name": "python3",
      "display_name": "Python 3"
    },
    "language_info": {
      "name": "python"
    }
  },
  "cells": [
    {
      "cell_type": "markdown",
      "metadata": {
        "id": "view-in-github",
        "colab_type": "text"
      },
      "source": [
        "<a href=\"https://colab.research.google.com/github/rudycav/RedditScraper/blob/edit/Project/r.ipynb\" target=\"_parent\"><img src=\"https://colab.research.google.com/assets/colab-badge.svg\" alt=\"Open In Colab\"/></a>"
      ]
    },
    {
      "cell_type": "code",
      "source": [
        "!pip install praw\n",
        "!pip install nltk"
      ],
      "metadata": {
        "colab": {
          "base_uri": "https://localhost:8080/"
        },
        "id": "8Fkj5A7Y9NxO",
        "outputId": "034f34d4-779b-4a54-c21a-1ce30cecf175"
      },
      "execution_count": 1,
      "outputs": [
        {
          "output_type": "stream",
          "name": "stdout",
          "text": [
            "Looking in indexes: https://pypi.org/simple, https://us-python.pkg.dev/colab-wheels/public/simple/\n",
            "Collecting praw\n",
            "  Downloading praw-7.6.1-py3-none-any.whl (188 kB)\n",
            "\u001b[2K     \u001b[90m━━━━━━━━━━━━━━━━━━━━━━━━━━━━━━━━━━━━━━\u001b[0m \u001b[32m188.8/188.8 KB\u001b[0m \u001b[31m15.9 MB/s\u001b[0m eta \u001b[36m0:00:00\u001b[0m\n",
            "\u001b[?25hCollecting update-checker>=0.18\n",
            "  Downloading update_checker-0.18.0-py3-none-any.whl (7.0 kB)\n",
            "Collecting websocket-client>=0.54.0\n",
            "  Downloading websocket_client-1.4.2-py3-none-any.whl (55 kB)\n",
            "\u001b[2K     \u001b[90m━━━━━━━━━━━━━━━━━━━━━━━━━━━━━━━━━━━━━━━━\u001b[0m \u001b[32m55.3/55.3 KB\u001b[0m \u001b[31m8.0 MB/s\u001b[0m eta \u001b[36m0:00:00\u001b[0m\n",
            "\u001b[?25hCollecting prawcore<3,>=2.1\n",
            "  Downloading prawcore-2.3.0-py3-none-any.whl (16 kB)\n",
            "Requirement already satisfied: requests<3.0,>=2.6.0 in /usr/local/lib/python3.8/dist-packages (from prawcore<3,>=2.1->praw) (2.25.1)\n",
            "Requirement already satisfied: chardet<5,>=3.0.2 in /usr/local/lib/python3.8/dist-packages (from requests<3.0,>=2.6.0->prawcore<3,>=2.1->praw) (4.0.0)\n",
            "Requirement already satisfied: idna<3,>=2.5 in /usr/local/lib/python3.8/dist-packages (from requests<3.0,>=2.6.0->prawcore<3,>=2.1->praw) (2.10)\n",
            "Requirement already satisfied: urllib3<1.27,>=1.21.1 in /usr/local/lib/python3.8/dist-packages (from requests<3.0,>=2.6.0->prawcore<3,>=2.1->praw) (1.24.3)\n",
            "Requirement already satisfied: certifi>=2017.4.17 in /usr/local/lib/python3.8/dist-packages (from requests<3.0,>=2.6.0->prawcore<3,>=2.1->praw) (2022.12.7)\n",
            "Installing collected packages: websocket-client, update-checker, prawcore, praw\n",
            "Successfully installed praw-7.6.1 prawcore-2.3.0 update-checker-0.18.0 websocket-client-1.4.2\n",
            "Looking in indexes: https://pypi.org/simple, https://us-python.pkg.dev/colab-wheels/public/simple/\n",
            "Requirement already satisfied: nltk in /usr/local/lib/python3.8/dist-packages (3.7)\n",
            "Requirement already satisfied: regex>=2021.8.3 in /usr/local/lib/python3.8/dist-packages (from nltk) (2022.6.2)\n",
            "Requirement already satisfied: joblib in /usr/local/lib/python3.8/dist-packages (from nltk) (1.2.0)\n",
            "Requirement already satisfied: tqdm in /usr/local/lib/python3.8/dist-packages (from nltk) (4.64.1)\n",
            "Requirement already satisfied: click in /usr/local/lib/python3.8/dist-packages (from nltk) (7.1.2)\n"
          ]
        }
      ]
    },
    {
      "cell_type": "code",
      "execution_count": 2,
      "metadata": {
        "colab": {
          "base_uri": "https://localhost:8080/"
        },
        "id": "nku7VmJ5a_qv",
        "outputId": "165b5358-3bc3-446c-b1e3-981e54ea7baf"
      },
      "outputs": [
        {
          "output_type": "stream",
          "name": "stderr",
          "text": [
            "[nltk_data] Downloading package punkt to /root/nltk_data...\n",
            "[nltk_data]   Unzipping tokenizers/punkt.zip.\n",
            "[nltk_data] Downloading package stopwords to /root/nltk_data...\n",
            "[nltk_data]   Unzipping corpora/stopwords.zip.\n",
            "[nltk_data] Downloading package wordnet to /root/nltk_data...\n",
            "[nltk_data] Downloading package omw-1.4 to /root/nltk_data...\n",
            "[nltk_data] Downloading package vader_lexicon to /root/nltk_data...\n"
          ]
        }
      ],
      "source": [
        "import praw\n",
        "from praw.models import MoreComments\n",
        "import pandas as pd\n",
        "import nltk\n",
        "nltk.download('punkt')\n",
        "nltk.download('stopwords')\n",
        "nltk.download('wordnet')\n",
        "nltk.download('omw-1.4')\n",
        "nltk.download('vader_lexicon')\n",
        "from nltk.sentiment.vader import SentimentIntensityAnalyzer as SIA\n",
        "from nltk.corpus import stopwords\n",
        "from nltk.tokenize import word_tokenize, sent_tokenize, RegexpTokenizer\n",
        "from nltk.stem import PorterStemmer\n",
        "from nltk.stem import WordNetLemmatizer\n",
        "from nltk.stem.snowball import SnowballStemmer\n",
        "from collections import Counter\n",
        "import re\n",
        "import string\n",
        "from string import punctuation"
      ]
    },
    {
      "cell_type": "code",
      "source": [
        "import requests\n",
        "\n",
        "url = 'https://web-api.coinmarketcap.com/v1/cryptocurrency/listings/latest'\n",
        "\n",
        "for start in range(1, 100, 1000):\n",
        "\n",
        "    params = {\n",
        "        'start': start,\n",
        "        'limit': 500,\n",
        "    }\n",
        "\n",
        "    r = requests.get(url, params=params)\n",
        "    data = r.json()\n",
        "\n",
        "ticker = [(crypto['symbol'].lower()) for crypto in (data['data'])]\n",
        "name_lower = [(crypto['name'].lower()) for crypto in (data['data'])]\n"
      ],
      "metadata": {
        "id": "GcYdLsPA6U36"
      },
      "execution_count": 3,
      "outputs": []
    },
    {
      "cell_type": "code",
      "source": [
        "reddit = praw.Reddit(\n",
        "    client_id=\"BE3T0CMpNrtqLT97yL6XiA\",\n",
        "    client_secret = \"gJnvUXTK0gCnj3UMGSUtw0JW35tN1A\",\n",
        "    password = \"Hannah00!!@\",\n",
        "    user_agent = \"spidey by u/rudyboycav\",\n",
        "    username = \"rudyboycav\",\n",
        "    check_for_async=False\n",
        ")"
      ],
      "metadata": {
        "id": "uGPmOIdZbxmJ"
      },
      "execution_count": 4,
      "outputs": []
    },
    {
      "cell_type": "code",
      "source": [
        "def reddit_scraper(reddit, subreddit_page, limit):\n",
        "  df = pd.DataFrame()\n",
        "  subreddit = reddit.subreddit(subreddit_page)\n",
        "  hot_topic = subreddit.hot(limit=limit)\n",
        "\n",
        "  for x in hot_topic: \n",
        "    c = x.comments.list()\n",
        "    for y in c:\n",
        "      if isinstance(y, MoreComments):\n",
        "        continue\n",
        "      df = df.append({'title': x.title,\n",
        "                      'author': y.author,\n",
        "                      'comments': y.body,\n",
        "                      'upvote_score': y.score},                                          \n",
        "                      ignore_index=True) \n",
        "\n",
        "  return df\n"
      ],
      "metadata": {
        "id": "n7p4ayjnb0do"
      },
      "execution_count": 5,
      "outputs": []
    },
    {
      "cell_type": "code",
      "source": [
        "wall = reddit_scraper(reddit, 'CryptoCurrency', 2)"
      ],
      "metadata": {
        "id": "4I8vxzJQJZd7"
      },
      "execution_count": 6,
      "outputs": []
    },
    {
      "cell_type": "code",
      "source": [
        "from nltk.corpus import stopwords\n",
        "\n",
        "stop_words = stopwords.words('english')\n",
        "tokenizer = RegexpTokenizer(r'\\w+')\n",
        "sia = SIA()\n",
        "\n",
        "def process_text(headlines):\n",
        "    tokens = []\n",
        "    for line in headlines:\n",
        "        toks = tokenizer.tokenize(line)\n",
        "        toks = [t.lower() for t in toks if t.lower() not in stop_words]\n",
        "        tokens.extend(toks)\n",
        "    \n",
        "    return tokens"
      ],
      "metadata": {
        "id": "5QkgPu8KJ7n5"
      },
      "execution_count": 7,
      "outputs": []
    },
    {
      "cell_type": "code",
      "source": [
        "'''\n",
        "sia = SIA()\n",
        "ticker_mentions = []\n",
        "name_mentions = []\n",
        "ff = []\n",
        "\n",
        "#ticker_mentions = [pol_score = sia.polarity_scores(y) for y in wall.comments for x in ticker if x in y]\n",
        "\n",
        "\n",
        "for x in ticker:\n",
        "  for y in wall.comments:\n",
        "    if x in y:\n",
        "      if y not in ticker_mentions:\n",
        "        ticker_mentions.append(y)\n",
        "      else:\n",
        "        ticker_mentions = ticker_mentions\n",
        "'''       \n",
        "          \n",
        "\n",
        "\n"
      ],
      "metadata": {
        "id": "VGI0eZVhil1W",
        "outputId": "eb76b4d5-406f-4b1f-d5a3-e6662efa1f69",
        "colab": {
          "base_uri": "https://localhost:8080/",
          "height": 53
        }
      },
      "execution_count": 8,
      "outputs": [
        {
          "output_type": "execute_result",
          "data": {
            "text/plain": [
              "'\\nsia = SIA()\\nticker_mentions = []\\nname_mentions = []\\nff = []\\n\\n#ticker_mentions = [pol_score = sia.polarity_scores(y) for y in wall.comments for x in ticker if x in y]\\n\\n\\nfor x in ticker:\\n  for y in wall.comments:\\n    if x in y:\\n      if y not in ticker_mentions:\\n        ticker_mentions.append(y)\\n      else:\\n        ticker_mentions = ticker_mentions\\n'"
            ],
            "application/vnd.google.colaboratory.intrinsic+json": {
              "type": "string"
            }
          },
          "metadata": {},
          "execution_count": 8
        }
      ]
    },
    {
      "cell_type": "code",
      "source": [
        "results = []\n",
        "for x in wall.comments:\n",
        "    pol_score = sia.polarity_scores(x)\n",
        "    pol_score['replies'] = x\n",
        "    results.append(pol_score)\n"
      ],
      "metadata": {
        "id": "7bLAmnNNQAxi"
      },
      "execution_count": 9,
      "outputs": []
    },
    {
      "cell_type": "code",
      "source": [
        "df2 = pd.DataFrame.from_records(results)\n",
        "\n",
        "df2['label'] = 0\n",
        "df2.loc[df2['compound'] > 0.2, 'label'] = 1\n",
        "df2.loc[df2['compound'] < -0.2, 'label'] = -1\n",
        "\n",
        "df2.head()"
      ],
      "metadata": {
        "colab": {
          "base_uri": "https://localhost:8080/",
          "height": 206
        },
        "id": "UApttH2zQMUK",
        "outputId": "3b511a3b-24ea-4df0-9f37-46505cedac88"
      },
      "execution_count": 10,
      "outputs": [
        {
          "output_type": "execute_result",
          "data": {
            "text/plain": [
              "     neg    neu    pos  compound  \\\n",
              "0  0.134  0.866  0.000   -0.9167   \n",
              "1  0.055  0.797  0.147    0.7418   \n",
              "2  0.033  0.886  0.081    0.8244   \n",
              "3  0.036  0.838  0.125    0.9468   \n",
              "4  0.000  0.912  0.088    0.5578   \n",
              "\n",
              "                                             replies  label  \n",
              "0  Bullish factors for 2023:\\n\\n- we already drop...     -1  \n",
              "1  I just need to be filled with hopium for this ...      1  \n",
              "2  I am willing to bet the fed pivots this year a...      1  \n",
              "3  My outlook is incredibly basic but I genuinely...      1  \n",
              "4  Long slow year ahead. Load up your bags if you...      1  "
            ],
            "text/html": [
              "\n",
              "  <div id=\"df-4c24f68a-d0ec-43b8-8c27-79f19669521b\">\n",
              "    <div class=\"colab-df-container\">\n",
              "      <div>\n",
              "<style scoped>\n",
              "    .dataframe tbody tr th:only-of-type {\n",
              "        vertical-align: middle;\n",
              "    }\n",
              "\n",
              "    .dataframe tbody tr th {\n",
              "        vertical-align: top;\n",
              "    }\n",
              "\n",
              "    .dataframe thead th {\n",
              "        text-align: right;\n",
              "    }\n",
              "</style>\n",
              "<table border=\"1\" class=\"dataframe\">\n",
              "  <thead>\n",
              "    <tr style=\"text-align: right;\">\n",
              "      <th></th>\n",
              "      <th>neg</th>\n",
              "      <th>neu</th>\n",
              "      <th>pos</th>\n",
              "      <th>compound</th>\n",
              "      <th>replies</th>\n",
              "      <th>label</th>\n",
              "    </tr>\n",
              "  </thead>\n",
              "  <tbody>\n",
              "    <tr>\n",
              "      <th>0</th>\n",
              "      <td>0.134</td>\n",
              "      <td>0.866</td>\n",
              "      <td>0.000</td>\n",
              "      <td>-0.9167</td>\n",
              "      <td>Bullish factors for 2023:\\n\\n- we already drop...</td>\n",
              "      <td>-1</td>\n",
              "    </tr>\n",
              "    <tr>\n",
              "      <th>1</th>\n",
              "      <td>0.055</td>\n",
              "      <td>0.797</td>\n",
              "      <td>0.147</td>\n",
              "      <td>0.7418</td>\n",
              "      <td>I just need to be filled with hopium for this ...</td>\n",
              "      <td>1</td>\n",
              "    </tr>\n",
              "    <tr>\n",
              "      <th>2</th>\n",
              "      <td>0.033</td>\n",
              "      <td>0.886</td>\n",
              "      <td>0.081</td>\n",
              "      <td>0.8244</td>\n",
              "      <td>I am willing to bet the fed pivots this year a...</td>\n",
              "      <td>1</td>\n",
              "    </tr>\n",
              "    <tr>\n",
              "      <th>3</th>\n",
              "      <td>0.036</td>\n",
              "      <td>0.838</td>\n",
              "      <td>0.125</td>\n",
              "      <td>0.9468</td>\n",
              "      <td>My outlook is incredibly basic but I genuinely...</td>\n",
              "      <td>1</td>\n",
              "    </tr>\n",
              "    <tr>\n",
              "      <th>4</th>\n",
              "      <td>0.000</td>\n",
              "      <td>0.912</td>\n",
              "      <td>0.088</td>\n",
              "      <td>0.5578</td>\n",
              "      <td>Long slow year ahead. Load up your bags if you...</td>\n",
              "      <td>1</td>\n",
              "    </tr>\n",
              "  </tbody>\n",
              "</table>\n",
              "</div>\n",
              "      <button class=\"colab-df-convert\" onclick=\"convertToInteractive('df-4c24f68a-d0ec-43b8-8c27-79f19669521b')\"\n",
              "              title=\"Convert this dataframe to an interactive table.\"\n",
              "              style=\"display:none;\">\n",
              "        \n",
              "  <svg xmlns=\"http://www.w3.org/2000/svg\" height=\"24px\"viewBox=\"0 0 24 24\"\n",
              "       width=\"24px\">\n",
              "    <path d=\"M0 0h24v24H0V0z\" fill=\"none\"/>\n",
              "    <path d=\"M18.56 5.44l.94 2.06.94-2.06 2.06-.94-2.06-.94-.94-2.06-.94 2.06-2.06.94zm-11 1L8.5 8.5l.94-2.06 2.06-.94-2.06-.94L8.5 2.5l-.94 2.06-2.06.94zm10 10l.94 2.06.94-2.06 2.06-.94-2.06-.94-.94-2.06-.94 2.06-2.06.94z\"/><path d=\"M17.41 7.96l-1.37-1.37c-.4-.4-.92-.59-1.43-.59-.52 0-1.04.2-1.43.59L10.3 9.45l-7.72 7.72c-.78.78-.78 2.05 0 2.83L4 21.41c.39.39.9.59 1.41.59.51 0 1.02-.2 1.41-.59l7.78-7.78 2.81-2.81c.8-.78.8-2.07 0-2.86zM5.41 20L4 18.59l7.72-7.72 1.47 1.35L5.41 20z\"/>\n",
              "  </svg>\n",
              "      </button>\n",
              "      \n",
              "  <style>\n",
              "    .colab-df-container {\n",
              "      display:flex;\n",
              "      flex-wrap:wrap;\n",
              "      gap: 12px;\n",
              "    }\n",
              "\n",
              "    .colab-df-convert {\n",
              "      background-color: #E8F0FE;\n",
              "      border: none;\n",
              "      border-radius: 50%;\n",
              "      cursor: pointer;\n",
              "      display: none;\n",
              "      fill: #1967D2;\n",
              "      height: 32px;\n",
              "      padding: 0 0 0 0;\n",
              "      width: 32px;\n",
              "    }\n",
              "\n",
              "    .colab-df-convert:hover {\n",
              "      background-color: #E2EBFA;\n",
              "      box-shadow: 0px 1px 2px rgba(60, 64, 67, 0.3), 0px 1px 3px 1px rgba(60, 64, 67, 0.15);\n",
              "      fill: #174EA6;\n",
              "    }\n",
              "\n",
              "    [theme=dark] .colab-df-convert {\n",
              "      background-color: #3B4455;\n",
              "      fill: #D2E3FC;\n",
              "    }\n",
              "\n",
              "    [theme=dark] .colab-df-convert:hover {\n",
              "      background-color: #434B5C;\n",
              "      box-shadow: 0px 1px 3px 1px rgba(0, 0, 0, 0.15);\n",
              "      filter: drop-shadow(0px 1px 2px rgba(0, 0, 0, 0.3));\n",
              "      fill: #FFFFFF;\n",
              "    }\n",
              "  </style>\n",
              "\n",
              "      <script>\n",
              "        const buttonEl =\n",
              "          document.querySelector('#df-4c24f68a-d0ec-43b8-8c27-79f19669521b button.colab-df-convert');\n",
              "        buttonEl.style.display =\n",
              "          google.colab.kernel.accessAllowed ? 'block' : 'none';\n",
              "\n",
              "        async function convertToInteractive(key) {\n",
              "          const element = document.querySelector('#df-4c24f68a-d0ec-43b8-8c27-79f19669521b');\n",
              "          const dataTable =\n",
              "            await google.colab.kernel.invokeFunction('convertToInteractive',\n",
              "                                                     [key], {});\n",
              "          if (!dataTable) return;\n",
              "\n",
              "          const docLinkHtml = 'Like what you see? Visit the ' +\n",
              "            '<a target=\"_blank\" href=https://colab.research.google.com/notebooks/data_table.ipynb>data table notebook</a>'\n",
              "            + ' to learn more about interactive tables.';\n",
              "          element.innerHTML = '';\n",
              "          dataTable['output_type'] = 'display_data';\n",
              "          await google.colab.output.renderOutput(dataTable, element);\n",
              "          const docLink = document.createElement('div');\n",
              "          docLink.innerHTML = docLinkHtml;\n",
              "          element.appendChild(docLink);\n",
              "        }\n",
              "      </script>\n",
              "    </div>\n",
              "  </div>\n",
              "  "
            ]
          },
          "metadata": {},
          "execution_count": 10
        }
      ]
    },
    {
      "cell_type": "code",
      "source": [
        "pos_lines = list(df2[df2.label == 1].replies)\n",
        "\n",
        "pos_tokens = process_text(pos_lines)\n",
        "#pos_freq = nltk.FreqDist(pos_tokens)\n",
        "\n",
        "#pos_freq.most_common(20)\n",
        "pos_tokens"
      ],
      "metadata": {
        "id": "GC9WAjg8Rx2c"
      },
      "execution_count": null,
      "outputs": []
    },
    {
      "cell_type": "code",
      "source": [
        "neg_lines = list(df2[df2.label == -1].replies)\n",
        "\n",
        "neg_tokens = process_text(neg_lines)\n",
        "#pos_freq = nltk.FreqDist(pos_tokens)\n",
        "\n",
        "#pos_freq.most_common(20)\n",
        "neg_tokens"
      ],
      "metadata": {
        "id": "AHBmQs6jSiWj"
      },
      "execution_count": null,
      "outputs": []
    },
    {
      "cell_type": "code",
      "source": [
        "neu_lines = list(df2[df2.label == 0].replies)\n",
        "\n",
        "neu_tokens = process_text(neu_lines)\n",
        "#pos_freq = nltk.FreqDist(pos_tokens)\n",
        "\n",
        "#pos_freq.most_common(20)\n",
        "neu_tokens"
      ],
      "metadata": {
        "id": "Gj_Mw-R5S3Xj"
      },
      "execution_count": null,
      "outputs": []
    },
    {
      "cell_type": "code",
      "source": [
        "vv = []\n",
        "dc = []\n",
        "nn = []\n",
        "\n",
        "for x in pos_tokens:\n",
        "  for y in ticker:\n",
        "    if x == y:\n",
        "      vv.append(y)\n",
        "\n",
        "for x in neg_tokens:\n",
        "  for y in ticker:\n",
        "    if x == y:\n",
        "      dc.append(y)\n",
        "\n",
        "for x in neu_tokens:\n",
        "  for y in ticker:\n",
        "    if x == y:\n",
        "      nn.append(y)"
      ],
      "metadata": {
        "id": "Cgj5YkYtYm54"
      },
      "execution_count": 14,
      "outputs": []
    },
    {
      "cell_type": "code",
      "source": [
        "ccc = Counter(dc)\n",
        "cccc = ccc.most_common(6)\n",
        "df3 = pd.DataFrame.from_records(list(dict(cccc).items()), columns=['page','count'])\n",
        "df3"
      ],
      "metadata": {
        "id": "-g5CpFBf8Ytg",
        "outputId": "1f4c1c1f-067c-42a1-8f06-a8a1fa88963d",
        "colab": {
          "base_uri": "https://localhost:8080/",
          "height": 217
        }
      },
      "execution_count": 34,
      "outputs": [
        {
          "output_type": "error",
          "ename": "TypeError",
          "evalue": "ignored",
          "traceback": [
            "\u001b[0;31m---------------------------------------------------------------------------\u001b[0m",
            "\u001b[0;31mTypeError\u001b[0m                                 Traceback (most recent call last)",
            "\u001b[0;32m<ipython-input-34-c071b7651e8d>\u001b[0m in \u001b[0;36m<module>\u001b[0;34m\u001b[0m\n\u001b[1;32m      1\u001b[0m \u001b[0mccc\u001b[0m \u001b[0;34m=\u001b[0m \u001b[0mCounter\u001b[0m\u001b[0;34m(\u001b[0m\u001b[0mdc\u001b[0m\u001b[0;34m)\u001b[0m\u001b[0;34m\u001b[0m\u001b[0;34m\u001b[0m\u001b[0m\n\u001b[1;32m      2\u001b[0m \u001b[0mcccc\u001b[0m \u001b[0;34m=\u001b[0m \u001b[0mccc\u001b[0m\u001b[0;34m.\u001b[0m\u001b[0mmost_common\u001b[0m\u001b[0;34m(\u001b[0m\u001b[0;36m6\u001b[0m\u001b[0;34m)\u001b[0m\u001b[0;34m\u001b[0m\u001b[0;34m\u001b[0m\u001b[0m\n\u001b[0;32m----> 3\u001b[0;31m \u001b[0mdf3\u001b[0m \u001b[0;34m=\u001b[0m \u001b[0mpd\u001b[0m\u001b[0;34m.\u001b[0m\u001b[0mDataFrame\u001b[0m\u001b[0;34m.\u001b[0m\u001b[0mfrom_records\u001b[0m\u001b[0;34m(\u001b[0m\u001b[0mlist\u001b[0m\u001b[0;34m(\u001b[0m\u001b[0mdict\u001b[0m\u001b[0;34m(\u001b[0m\u001b[0mcccc\u001b[0m\u001b[0;34m,\u001b[0m \u001b[0mgggg\u001b[0m\u001b[0;34m)\u001b[0m\u001b[0;34m.\u001b[0m\u001b[0mitems\u001b[0m\u001b[0;34m(\u001b[0m\u001b[0;34m)\u001b[0m\u001b[0;34m)\u001b[0m\u001b[0;34m,\u001b[0m \u001b[0mcolumns\u001b[0m\u001b[0;34m=\u001b[0m\u001b[0;34m[\u001b[0m\u001b[0;34m'page'\u001b[0m\u001b[0;34m,\u001b[0m\u001b[0;34m'count'\u001b[0m\u001b[0;34m,\u001b[0m \u001b[0;34m'dd'\u001b[0m\u001b[0;34m,\u001b[0m \u001b[0;34m'ff'\u001b[0m\u001b[0;34m]\u001b[0m\u001b[0;34m)\u001b[0m\u001b[0;34m\u001b[0m\u001b[0;34m\u001b[0m\u001b[0m\n\u001b[0m\u001b[1;32m      4\u001b[0m \u001b[0mdf3\u001b[0m\u001b[0;34m\u001b[0m\u001b[0;34m\u001b[0m\u001b[0m\n",
            "\u001b[0;31mTypeError\u001b[0m: dict expected at most 1 argument, got 2"
          ]
        }
      ]
    },
    {
      "cell_type": "code",
      "source": [
        "ggg = Counter(nn)\n",
        "\n",
        "gggg =ggg.most_common(6)"
      ],
      "metadata": {
        "id": "SFkL-sxbs7Ec"
      },
      "execution_count": 32,
      "outputs": []
    },
    {
      "cell_type": "code",
      "source": [
        "vfv = Counter(vv)\n",
        "vfvv = vfv.most_common(6)"
      ],
      "metadata": {
        "id": "tluMdgp_4kzO"
      },
      "execution_count": 33,
      "outputs": []
    },
    {
      "cell_type": "code",
      "source": [
        "for x in name:\n",
        "  for y in wall.comments:\n",
        "    if x in y:\n",
        "      if y not in name_mentions:\n",
        "          pol_score = sia.polarity_scores(y)\n",
        "          pol_score['replies'] = y\n",
        "          name_mentions.append(pol_score)"
      ],
      "metadata": {
        "colab": {
          "base_uri": "https://localhost:8080/",
          "height": 235
        },
        "id": "HoYarXgt01ZI",
        "outputId": "759ecbe3-3dbc-4c18-c8a6-5a283a153c3c"
      },
      "execution_count": 16,
      "outputs": [
        {
          "output_type": "error",
          "ename": "NameError",
          "evalue": "ignored",
          "traceback": [
            "\u001b[0;31m---------------------------------------------------------------------------\u001b[0m",
            "\u001b[0;31mNameError\u001b[0m                                 Traceback (most recent call last)",
            "\u001b[0;32m<ipython-input-16-7fc12dc5be8d>\u001b[0m in \u001b[0;36m<module>\u001b[0;34m\u001b[0m\n\u001b[0;32m----> 1\u001b[0;31m \u001b[0;32mfor\u001b[0m \u001b[0mx\u001b[0m \u001b[0;32min\u001b[0m \u001b[0mname\u001b[0m\u001b[0;34m:\u001b[0m\u001b[0;34m\u001b[0m\u001b[0;34m\u001b[0m\u001b[0m\n\u001b[0m\u001b[1;32m      2\u001b[0m   \u001b[0;32mfor\u001b[0m \u001b[0my\u001b[0m \u001b[0;32min\u001b[0m \u001b[0mwall\u001b[0m\u001b[0;34m.\u001b[0m\u001b[0mcomments\u001b[0m\u001b[0;34m:\u001b[0m\u001b[0;34m\u001b[0m\u001b[0;34m\u001b[0m\u001b[0m\n\u001b[1;32m      3\u001b[0m     \u001b[0;32mif\u001b[0m \u001b[0mx\u001b[0m \u001b[0;32min\u001b[0m \u001b[0my\u001b[0m\u001b[0;34m:\u001b[0m\u001b[0;34m\u001b[0m\u001b[0;34m\u001b[0m\u001b[0m\n\u001b[1;32m      4\u001b[0m       \u001b[0;32mif\u001b[0m \u001b[0my\u001b[0m \u001b[0;32mnot\u001b[0m \u001b[0;32min\u001b[0m \u001b[0mname_mentions\u001b[0m\u001b[0;34m:\u001b[0m\u001b[0;34m\u001b[0m\u001b[0;34m\u001b[0m\u001b[0m\n\u001b[1;32m      5\u001b[0m           \u001b[0mpol_score\u001b[0m \u001b[0;34m=\u001b[0m \u001b[0msia\u001b[0m\u001b[0;34m.\u001b[0m\u001b[0mpolarity_scores\u001b[0m\u001b[0;34m(\u001b[0m\u001b[0my\u001b[0m\u001b[0;34m)\u001b[0m\u001b[0;34m\u001b[0m\u001b[0;34m\u001b[0m\u001b[0m\n",
            "\u001b[0;31mNameError\u001b[0m: name 'name' is not defined"
          ]
        }
      ]
    },
    {
      "cell_type": "code",
      "source": [
        "name_mentions"
      ],
      "metadata": {
        "id": "OEIbp_yRFzFJ"
      },
      "execution_count": null,
      "outputs": []
    },
    {
      "cell_type": "code",
      "source": [
        "li = {}\n",
        "dd = []\n",
        "\n",
        "for s in ticker:\n",
        "  for x in wall.comments:\n",
        "    if s in x:\n",
        "      \n",
        "      if s not in li:\n",
        " \n",
        "        li[s] = 1\n",
        "      else:\n",
        "        li[s] += 1"
      ],
      "metadata": {
        "id": "QLHZ5AAuvPXs"
      },
      "execution_count": null,
      "outputs": []
    },
    {
      "cell_type": "code",
      "source": [
        "li"
      ],
      "metadata": {
        "id": "bEjKbab0JTQJ"
      },
      "execution_count": null,
      "outputs": []
    },
    {
      "cell_type": "code",
      "source": [
        "for x in wall.comments:\n",
        "  ff = x.split()\n",
        "  pp = list(set(filter(lambda ff: ff.lower().startswith('$'), ff)))\n",
        "  output = re.sub(r'\\d+', '', str(pp))\n",
        "\n",
        "\n",
        "  if len(pp) > 0:\n",
        "    print(output)\n",
        "\n",
        "\n"
      ],
      "metadata": {
        "id": "jfWSOaAI0tfl"
      },
      "execution_count": null,
      "outputs": []
    },
    {
      "cell_type": "code",
      "source": [
        "for x in tokey:\n",
        "  print(x.startswith('$'))"
      ],
      "metadata": {
        "id": "yAbwa-P61Q31"
      },
      "execution_count": null,
      "outputs": []
    },
    {
      "cell_type": "code",
      "source": [
        "for x in xx:\n",
        "  print(x)"
      ],
      "metadata": {
        "id": "6lZm8noJPlX_"
      },
      "execution_count": null,
      "outputs": []
    },
    {
      "cell_type": "code",
      "source": [
        "def clean_text(df):\n",
        "  clean_text = \" \".join(str(df).split())\n",
        "  clean_text = \" \".join([w for w in df.split() if w.isalpha()])\n",
        "\n",
        "  return clean_text\n",
        "\n",
        "gg = wall.comments.map(clean_text)"
      ],
      "metadata": {
        "id": "u56hb9pern9t"
      },
      "execution_count": null,
      "outputs": []
    },
    {
      "cell_type": "code",
      "source": [
        "for x in gg:\n",
        "  print(x)"
      ],
      "metadata": {
        "id": "PMg3RkgTqQbr"
      },
      "execution_count": null,
      "outputs": []
    },
    {
      "cell_type": "code",
      "source": [
        "def word_tokenizer(df):\n",
        "  tokens = word_tokenize(str(df))\n",
        "\n",
        "  return tokens\n",
        "\n",
        "ggg =word_tokenizer(gg)"
      ],
      "metadata": {
        "id": "ceqTHhHZkmE5"
      },
      "execution_count": null,
      "outputs": []
    },
    {
      "cell_type": "code",
      "source": [
        "print(ggg)\n",
        "print(len(ggg))"
      ],
      "metadata": {
        "id": "RQZsOX0KJnq8"
      },
      "execution_count": null,
      "outputs": []
    },
    {
      "cell_type": "code",
      "source": [
        "stopwords_ = set(stopwords.words(\"english\"))"
      ],
      "metadata": {
        "id": "m-X1bfkHE7TX"
      },
      "execution_count": null,
      "outputs": []
    },
    {
      "cell_type": "code",
      "source": [
        "\n",
        "def stopwords(df):\n",
        "  clean_tokens = [t for t in df if not t in stopwords_]\n",
        "  clean_text = \" \".join(clean_tokens)\n",
        "\n",
        "  return clean_tokens\n",
        "\n",
        "gggg = stopwords(ggg)"
      ],
      "metadata": {
        "id": "ibONSMnEp0yp"
      },
      "execution_count": null,
      "outputs": []
    },
    {
      "cell_type": "code",
      "source": [
        "lemmatizer = WordNetLemmatizer()\n",
        "lemmatizer.lemmatize('cats')"
      ],
      "metadata": {
        "id": "8cFPvQhnOsob"
      },
      "execution_count": null,
      "outputs": []
    },
    {
      "cell_type": "code",
      "source": [
        "for x in gggg:\n",
        "  ff = lemmatizer.lemmatize(x)\n",
        "  print(x)"
      ],
      "metadata": {
        "id": "eSdhfOO3TtOS"
      },
      "execution_count": null,
      "outputs": []
    },
    {
      "cell_type": "code",
      "source": [
        "def lemmatizer(df):\n",
        "  return [lemmatizer.lemmatize(word) for word in df]\n",
        "gggg.map(str(lemmatizer))\n"
      ],
      "metadata": {
        "id": "BsYfLBG_Ngly"
      },
      "execution_count": null,
      "outputs": []
    },
    {
      "cell_type": "code",
      "source": [
        "print(gggg)\n",
        "print(len(gggg))"
      ],
      "metadata": {
        "id": "tzvloq-NC3X7"
      },
      "execution_count": null,
      "outputs": []
    },
    {
      "cell_type": "code",
      "source": [
        "non_letter = \"\".join([x for x in str(cleaned_text) if x not in string.punctuation])\n",
        "non_letter"
      ],
      "metadata": {
        "id": "bzBM6MTviWT4"
      },
      "execution_count": null,
      "outputs": []
    },
    {
      "cell_type": "code",
      "source": [
        "def remove_punctuation(df):\n",
        "\n",
        "  #non_letter = re.sub(r\"https?://\\S+\", \"\", str(df))\n",
        "  non_letter = \"\".join([x for x in str(df) if x not in string.punctuation]) #removes punctuation\n",
        "  non_letter = ''.join([i for i in str(df) if not i.isdigit()]) #removes numbers\n",
        "  #non_letter = demojize(str(df))\n",
        "  \n",
        "  return non_letter\n",
        "\n",
        "cleaned_text = remove_punctuation(cleaned_text)"
      ],
      "metadata": {
        "id": "cdq1vl8gK72i"
      },
      "execution_count": null,
      "outputs": []
    },
    {
      "cell_type": "code",
      "source": [
        "cleaned_text"
      ],
      "metadata": {
        "id": "2OZWORKeezpx"
      },
      "execution_count": null,
      "outputs": []
    },
    {
      "cell_type": "code",
      "source": [
        "for x in cleaned_text:\n",
        "  if x is 'SPY':\n",
        "    print(x)"
      ],
      "metadata": {
        "id": "kVM0FAW5wFR9"
      },
      "execution_count": null,
      "outputs": []
    },
    {
      "cell_type": "code",
      "source": [
        "for x in cleaned_text:\n",
        "  if x.isupper():\n",
        "    print(x)"
      ],
      "metadata": {
        "id": "U6ojEhvpFjIR"
      },
      "execution_count": null,
      "outputs": []
    },
    {
      "cell_type": "code",
      "source": [
        "def tokenize(df):\n",
        "  for words in wall:\n",
        "    tokenize = word_tokenize(words)\n",
        "  return tokenize\n",
        "\n",
        "tokenized_words = tokenize(wall)"
      ],
      "metadata": {
        "id": "4U4mx8Gk309X"
      },
      "execution_count": null,
      "outputs": []
    },
    {
      "cell_type": "code",
      "source": [
        "stop_words = set(stopwords.words(\"english\"))"
      ],
      "metadata": {
        "id": "nHzMbVP5adSQ"
      },
      "execution_count": null,
      "outputs": []
    },
    {
      "cell_type": "code",
      "source": [
        "def stopwords(df):\n",
        "  #stop_words = set(stopwords.words(\"english\"))\n",
        "  filtered_words = [word for word in df if word.casefold() not in stop_words]\n",
        "  return filtered_words\n",
        "\n",
        "filtered_stopwords = stopwords(tokenized_words)\n",
        "filtered_stopwords"
      ],
      "metadata": {
        "id": "VYfK6k0xQTgQ"
      },
      "execution_count": null,
      "outputs": []
    },
    {
      "cell_type": "code",
      "source": [
        "def stemming(df):\n",
        "  stemmed_list = []\n",
        "  snow_stemmer = SnowballStemmer(language='english')\n",
        "  \n",
        "  for words in filtered_stopwords:\n",
        "    stemmer = snow_stemmer.stem(words)\n",
        "    stemmed_list.append(stemmer)\n",
        "  return stemmed_list\n",
        "\n",
        "stemmed_words = stemming(filtered_stopwords)\n",
        "stemmed_words"
      ],
      "metadata": {
        "id": "FOVyyFnfbWCn"
      },
      "execution_count": null,
      "outputs": []
    },
    {
      "cell_type": "code",
      "source": [
        "subreddit = await reddit.subreddit(\"wallstreetbets\")\n",
        "async for x in subreddit.hot(limit=3):\n",
        "    print('THREAD: {}'.format(x.title))\n",
        "    print('USER: {}'.format(x.author))\n",
        "\n",
        "    print(x.comments)\n",
        "    \n",
        "\n"
      ],
      "metadata": {
        "id": "XokRICz09DHv"
      },
      "execution_count": null,
      "outputs": []
    }
  ]
}