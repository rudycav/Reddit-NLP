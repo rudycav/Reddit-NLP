{
  "nbformat": 4,
  "nbformat_minor": 0,
  "metadata": {
    "colab": {
      "provenance": [],
      "authorship_tag": "ABX9TyOAnz9Ghh6CJe/gO/f5rbWq",
      "include_colab_link": true
    },
    "kernelspec": {
      "name": "python3",
      "display_name": "Python 3"
    },
    "language_info": {
      "name": "python"
    }
  },
  "cells": [
    {
      "cell_type": "markdown",
      "metadata": {
        "id": "view-in-github",
        "colab_type": "text"
      },
      "source": [
        "<a href=\"https://colab.research.google.com/github/rudycav/Reddit-NLP/blob/edit/Project/r.ipynb\" target=\"_parent\"><img src=\"https://colab.research.google.com/assets/colab-badge.svg\" alt=\"Open In Colab\"/></a>"
      ]
    },
    {
      "cell_type": "code",
      "source": [
        "!pip install praw\n",
        "!pip install nltk"
      ],
      "metadata": {
        "colab": {
          "base_uri": "https://localhost:8080/"
        },
        "id": "8Fkj5A7Y9NxO",
        "outputId": "b60c6c9a-848d-4250-fec8-a70f62bf5e8e"
      },
      "execution_count": 1,
      "outputs": [
        {
          "output_type": "stream",
          "name": "stdout",
          "text": [
            "Looking in indexes: https://pypi.org/simple, https://us-python.pkg.dev/colab-wheels/public/simple/\n",
            "Requirement already satisfied: praw in /usr/local/lib/python3.8/dist-packages (7.6.1)\n",
            "Requirement already satisfied: update-checker>=0.18 in /usr/local/lib/python3.8/dist-packages (from praw) (0.18.0)\n",
            "Requirement already satisfied: prawcore<3,>=2.1 in /usr/local/lib/python3.8/dist-packages (from praw) (2.3.0)\n",
            "Requirement already satisfied: websocket-client>=0.54.0 in /usr/local/lib/python3.8/dist-packages (from praw) (1.4.2)\n",
            "Requirement already satisfied: requests<3.0,>=2.6.0 in /usr/local/lib/python3.8/dist-packages (from prawcore<3,>=2.1->praw) (2.25.1)\n",
            "Requirement already satisfied: certifi>=2017.4.17 in /usr/local/lib/python3.8/dist-packages (from requests<3.0,>=2.6.0->prawcore<3,>=2.1->praw) (2022.12.7)\n",
            "Requirement already satisfied: chardet<5,>=3.0.2 in /usr/local/lib/python3.8/dist-packages (from requests<3.0,>=2.6.0->prawcore<3,>=2.1->praw) (4.0.0)\n",
            "Requirement already satisfied: urllib3<1.27,>=1.21.1 in /usr/local/lib/python3.8/dist-packages (from requests<3.0,>=2.6.0->prawcore<3,>=2.1->praw) (1.24.3)\n",
            "Requirement already satisfied: idna<3,>=2.5 in /usr/local/lib/python3.8/dist-packages (from requests<3.0,>=2.6.0->prawcore<3,>=2.1->praw) (2.10)\n",
            "Looking in indexes: https://pypi.org/simple, https://us-python.pkg.dev/colab-wheels/public/simple/\n",
            "Requirement already satisfied: nltk in /usr/local/lib/python3.8/dist-packages (3.7)\n",
            "Requirement already satisfied: click in /usr/local/lib/python3.8/dist-packages (from nltk) (7.1.2)\n",
            "Requirement already satisfied: regex>=2021.8.3 in /usr/local/lib/python3.8/dist-packages (from nltk) (2022.6.2)\n",
            "Requirement already satisfied: joblib in /usr/local/lib/python3.8/dist-packages (from nltk) (1.2.0)\n",
            "Requirement already satisfied: tqdm in /usr/local/lib/python3.8/dist-packages (from nltk) (4.64.1)\n"
          ]
        }
      ]
    },
    {
      "cell_type": "code",
      "execution_count": 2,
      "metadata": {
        "colab": {
          "base_uri": "https://localhost:8080/"
        },
        "id": "nku7VmJ5a_qv",
        "outputId": "a54e8fb4-fa3f-417e-abd6-e5a40fb9afe4"
      },
      "outputs": [
        {
          "output_type": "stream",
          "name": "stderr",
          "text": [
            "[nltk_data] Downloading package punkt to /root/nltk_data...\n",
            "[nltk_data]   Package punkt is already up-to-date!\n",
            "[nltk_data] Downloading package stopwords to /root/nltk_data...\n",
            "[nltk_data]   Package stopwords is already up-to-date!\n",
            "[nltk_data] Downloading package wordnet to /root/nltk_data...\n",
            "[nltk_data]   Package wordnet is already up-to-date!\n",
            "[nltk_data] Downloading package omw-1.4 to /root/nltk_data...\n",
            "[nltk_data]   Package omw-1.4 is already up-to-date!\n",
            "[nltk_data] Downloading package vader_lexicon to /root/nltk_data...\n",
            "[nltk_data]   Package vader_lexicon is already up-to-date!\n"
          ]
        }
      ],
      "source": [
        "import praw\n",
        "from praw.models import MoreComments\n",
        "import pandas as pd\n",
        "import matplotlib.pyplot as plt\n",
        "import nltk\n",
        "nltk.download('punkt')\n",
        "nltk.download('stopwords')\n",
        "nltk.download('wordnet')\n",
        "nltk.download('omw-1.4')\n",
        "nltk.download('vader_lexicon')\n",
        "from nltk.sentiment.vader import SentimentIntensityAnalyzer as SIA\n",
        "from nltk.tokenize import word_tokenize, sent_tokenize, RegexpTokenizer\n",
        "from nltk.stem import WordNetLemmatizer\n",
        "from nltk.corpus import stopwords\n",
        "import re\n",
        "import requests"
      ]
    },
    {
      "cell_type": "code",
      "source": [
        "reddit = praw.Reddit(\n",
        "    client_id=\"\",\n",
        "    client_secret = \"\",\n",
        "    password = \"\",\n",
        "    user_agent = \"\",\n",
        "    username = \"\",\n",
        "    check_for_async=False\n",
        ")\n",
        "#coinmarketcap API call - limit to top 150 coins\n",
        "url='https://web-api.coinmarketcap.com/v1/cryptocurrency/listings/latest'\n",
        "for start in range(1, 100, 1000):\n",
        "    params = {\n",
        "        'start': start,\n",
        "        'limit': 150,\n",
        "            }\n",
        "    r = requests.get(url, params=params)\n",
        "    data = r.json()\n",
        "\n",
        "ticker = [(crypto['symbol'].lower()) for crypto in (data['data'])]\n",
        "slug = [(crypto['name'].lower()) for crypto in (data['data'])]\n",
        "\n",
        "#subreddit to set parameters for title, author, body, score\n",
        "def reddit_scraper(reddit, subreddit_page, limit):\n",
        "  df = pd.DataFrame()\n",
        "  subreddit = reddit.subreddit(subreddit_page)\n",
        "  hot_topic = subreddit.hot(limit=limit)\n",
        "\n",
        "  for topics in hot_topic: \n",
        "    topic_list = topics.comments.list()\n",
        "    for comments in topic_list:\n",
        "      if isinstance(comments, MoreComments):\n",
        "        continue\n",
        "      df = df.append({'title': topics.title,\n",
        "                      #'author': comments.author,\n",
        "                      'comments': comments.body,\n",
        "                      #'upvote_score': comments.score\n",
        "                      },                                          \n",
        "                      ignore_index=True) \n",
        "\n",
        "  return df"
      ],
      "metadata": {
        "id": "n7p4ayjnb0do"
      },
      "execution_count": 60,
      "outputs": []
    },
    {
      "cell_type": "code",
      "source": [
        "wall = reddit_scraper(reddit, 'CryptoCurrency', 40)\n",
        "\n",
        "tokenizer = RegexpTokenizer(r'\\w+')\n",
        "stop_words = stopwords.words('english')\n",
        "lemmatizer = WordNetLemmatizer()\n",
        "\n",
        "#text cleaning; tokenization, stop words, lemmatization\n",
        "def text_cleaner(df):\n",
        "    cleaned_text = []\n",
        "    for text in df:\n",
        "        tokenize_words = tokenizer.tokenize(text)      \n",
        "        stop_word_filter = [token.lower() for token in tokenize_words if token.lower() not in stop_words and not token.isdigit()]\n",
        "        lemmitize_words = ([lemmatizer.lemmatize(token) for token in stop_word_filter])\n",
        "        cleaned_text.extend(lemmitize_words)\n",
        "    \n",
        "    return cleaned_text\n",
        "\n",
        "def sentiment_analysis(df):\n",
        "  return text_cleaner(df)\n",
        "\n",
        "#number visualization on top of bars\n",
        "def addlabels(x,y):\n",
        "    for i in range(len(x)):\n",
        "        plt.text(i, y[i], y[i], ha = 'center')\n",
        "\n",
        "sia = SIA()\n",
        "\n",
        "ps = []\n",
        "for comment in wall.comments:\n",
        "    #polarity scores for SentimentIntensityAnalyzer\n",
        "    score = sia.polarity_scores(comment)\n",
        "    score['replies'] = comment\n",
        "    ps.append(score)\n",
        "\n",
        "pol_df = pd.DataFrame.from_records(ps)\n",
        "\n",
        "#set bullish if 1, bearish if 0, neutral if 0\n",
        "pol_df['sentiment'] = 0\n",
        "pol_df.loc[pol_df['compound'] > 0.2, 'sentiment'] = 1\n",
        "pol_df.loc[pol_df['compound'] < -0.2, 'sentiment'] = -1\n",
        "\n",
        "\n",
        "bullish = sentiment_analysis(pol_df[pol_df.sentiment==1].replies)\n",
        "bearish = sentiment_analysis(pol_df[pol_df.sentiment==-1].replies)\n",
        "neutral = sentiment_analysis(pol_df[pol_df.sentiment==0].replies)\n",
        "\n",
        "#bullish ticker & names \n",
        "df_bull_ticker = pd.DataFrame(nltk.FreqDist([crypto for bull in text_cleaner(bullish) for \n",
        "                                             crypto in ticker if bull==crypto]).most_common(5), columns=['Name', 'Frequencies'])\n",
        "df_bull_slug = pd.DataFrame(nltk.FreqDist([crypto for bull in text_cleaner(bullish) for \n",
        "                                           crypto in slug if bull==crypto]).most_common(5), columns=['Name', 'Frequencies'])\n",
        "#bearish ticker & names\n",
        "df_bear_ticker = pd.DataFrame(nltk.FreqDist([crypto for bear in text_cleaner(bearish) for \n",
        "                                             crypto in ticker if bear==crypto]).most_common(5), columns=['Name', 'Frequencies'])\n",
        "df_bear_slug = pd.DataFrame(nltk.FreqDist([crypto for bear in text_cleaner(bearish) for \n",
        "                                           crypto in slug if bear==crypto]).most_common(5), columns=['Name', 'Frequencies'])\n",
        "#neutral ticker & names\n",
        "df_neutral_ticker = pd.DataFrame(nltk.FreqDist([crypto for neu in text_cleaner(neutral) for \n",
        "                                                crypto in ticker if neu==crypto]).most_common(5), columns=['Name', 'Frequencies'])\n",
        "df_neutral_slug = pd.DataFrame(nltk.FreqDist([crypto for neu in text_cleaner(neutral) for \n",
        "                                              crypto in slug if neu==crypto]).most_common(5), columns=['Name', 'Frequencies'])"
      ],
      "metadata": {
        "id": "_JuFDzcyI_Ey"
      },
      "execution_count": 140,
      "outputs": []
    },
    {
      "cell_type": "code",
      "source": [
        "len(wall)"
      ],
      "metadata": {
        "id": "5RWB9RE_jDWl",
        "outputId": "2598fa50-5519-4a73-b0c1-8b7e4091548b",
        "colab": {
          "base_uri": "https://localhost:8080/"
        }
      },
      "execution_count": 141,
      "outputs": [
        {
          "output_type": "execute_result",
          "data": {
            "text/plain": [
              "3172"
            ]
          },
          "metadata": {},
          "execution_count": 141
        }
      ]
    },
    {
      "cell_type": "code",
      "source": [
        "fig = plt.figure(figsize = (12, 8))\n",
        "plt.bar(df_neutral_ticker.Name, df_neutral_ticker.Frequencies, color ='dimgray',\n",
        "        width = 0.4)\n",
        " \n",
        "plt.title(\"Neutral Ticker Mentions\")\n",
        "addlabels(df_neutral_ticker.Name, df_neutral_ticker.Frequencies)\n",
        "plt.show()"
      ],
      "metadata": {
        "colab": {
          "base_uri": "https://localhost:8080/",
          "height": 499
        },
        "id": "V8OAZfDB_2I0",
        "outputId": "7aee7162-2336-45a9-b740-565978735143"
      },
      "execution_count": 151,
      "outputs": [
        {
          "output_type": "display_data",
          "data": {
            "text/plain": [
              "<Figure size 864x576 with 1 Axes>"
            ],
            "image/png": "[encoded data removed]"
          },
          "metadata": {
            "needs_background": "light"
          }
        }
      ]
    },
    {
      "cell_type": "code",
      "source": [
        "fig = plt.figure(figsize = (12, 8))\n",
        "plt.bar(df_neutral_slug.Name, df_neutral_slug.Frequencies, color ='dimgray',\n",
        "        width = 0.4)\n",
        " \n",
        "plt.title(\"Neutral Name Mentions\")\n",
        "addlabels(df_neutral_slug.Name, df_neutral_slug.Frequencies)\n",
        "plt.show()"
      ],
      "metadata": {
        "colab": {
          "base_uri": "https://localhost:8080/",
          "height": 499
        },
        "id": "hVFhkGcnTNQ8",
        "outputId": "6d9fa318-8642-42ab-c639-87ca314c907c"
      },
      "execution_count": 148,
      "outputs": [
        {
          "output_type": "display_data",
          "data": {
            "text/plain": [
              "<Figure size 864x576 with 1 Axes>"
            ],
            "image/png": "[encoded data removed]"
          },
          "metadata": {
            "needs_background": "light"
          }
        }
      ]
    },
    {
      "cell_type": "code",
      "source": [
        "fig = plt.figure(figsize = (12, 8))\n",
        "plt.bar(df_bull_ticker.Name, df_bull_ticker.Frequencies, color ='darkgreen',\n",
        "        width = 0.4)\n",
        " \n",
        "plt.title(\"Bullish Ticker Mentions\")\n",
        "addlabels(df_bull_ticker.Name, df_bull_ticker.Frequencies)\n",
        "plt.show()"
      ],
      "metadata": {
        "colab": {
          "base_uri": "https://localhost:8080/",
          "height": 499
        },
        "id": "pSNLnL07WC9s",
        "outputId": "f581375e-c6a9-44e1-ae8e-b292b21874e5"
      },
      "execution_count": 152,
      "outputs": [
        {
          "output_type": "display_data",
          "data": {
            "text/plain": [
              "<Figure size 864x576 with 1 Axes>"
            ],
            "image/png": "[encoded data removed]"
          },
          "metadata": {
            "needs_background": "light"
          }
        }
      ]
    },
    {
      "cell_type": "code",
      "source": [
        "fig = plt.figure(figsize = (12, 8))\n",
        "plt.bar(df_bull_slug.Name, df_bull_slug.Frequencies, color ='darkgreen',\n",
        "        width = 0.4)\n",
        " \n",
        "plt.title(\"Bullish Name Mentions\")\n",
        "addlabels(df_bull_slug.Name, df_bull_slug.Frequencies)\n",
        "plt.show()"
      ],
      "metadata": {
        "colab": {
          "base_uri": "https://localhost:8080/",
          "height": 499
        },
        "id": "gEiqd25VUrT9",
        "outputId": "afd833e8-eb77-4e8c-b6be-9f8c4a518fca"
      },
      "execution_count": 153,
      "outputs": [
        {
          "output_type": "display_data",
          "data": {
            "text/plain": [
              "<Figure size 864x576 with 1 Axes>"
            ],
            "image/png": "[encoded data removed]"
          },
          "metadata": {
            "needs_background": "light"
          }
        }
      ]
    },
    {
      "cell_type": "code",
      "source": [
        "fig = plt.figure(figsize = (12, 8))\n",
        "plt.bar(df_bear_ticker.Name, df_bear_ticker.Frequencies, color ='darkred',\n",
        "        width = 0.4)\n",
        " \n",
        "plt.title(\"Bearish Ticker Mentions\")\n",
        "addlabels(df_bear_ticker.Name, df_bear_ticker.Frequencies)\n",
        "plt.show()"
      ],
      "metadata": {
        "colab": {
          "base_uri": "https://localhost:8080/",
          "height": 499
        },
        "id": "0w7t-nKwWt98",
        "outputId": "43d1da07-9ff1-43d6-cdfd-69eaa9508e24"
      },
      "execution_count": 154,
      "outputs": [
        {
          "output_type": "display_data",
          "data": {
            "text/plain": [
              "<Figure size 864x576 with 1 Axes>"
            ],
            "image/png": "[encoded data removed]"
          },
          "metadata": {
            "needs_background": "light"
          }
        }
      ]
    },
    {
      "cell_type": "code",
      "source": [
        "fig = plt.figure(figsize = (12, 8))\n",
        "plt.bar(df_bear_slug.Name, df_bear_slug.Frequencies, color ='darkred',\n",
        "        width = 0.4)\n",
        " \n",
        "plt.title(\"Bearish Name Mentions\")\n",
        "addlabels(df_bear_slug.Name, df_bear_slug.Frequencies)\n",
        "plt.show()"
      ],
      "metadata": {
        "colab": {
          "base_uri": "https://localhost:8080/",
          "height": 499
        },
        "id": "VN4Z_gNjWj51",
        "outputId": "efa8a5c7-1f97-437e-b936-0f708a7ec19f"
      },
      "execution_count": 155,
      "outputs": [
        {
          "output_type": "display_data",
          "data": {
            "text/plain": [
              "<Figure size 864x576 with 1 Axes>"
            ],
            "image/png": "[encoded data removed]"
          },
          "metadata": {
            "needs_background": "light"
          }
        }
      ]
    }
  ]
}