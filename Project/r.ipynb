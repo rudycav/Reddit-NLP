{
  "nbformat": 4,
  "nbformat_minor": 0,
  "metadata": {
    "colab": {
      "provenance": [],
      "authorship_tag": "ABX9TyOrwAnxlg4M4qUZODi4x5Sm",
      "include_colab_link": true
    },
    "kernelspec": {
      "name": "python3",
      "display_name": "Python 3"
    },
    "language_info": {
      "name": "python"
    }
  },
  "cells": [
    {
      "cell_type": "markdown",
      "metadata": {
        "id": "view-in-github",
        "colab_type": "text"
      },
      "source": [
        "<a href=\"https://colab.research.google.com/github/rudycav/RedditScraper/blob/main/Project/r.ipynb\" target=\"_parent\"><img src=\"https://colab.research.google.com/assets/colab-badge.svg\" alt=\"Open In Colab\"/></a>"
      ]
    },
    {
      "cell_type": "code",
      "source": [
        "!pip install asyncpraw\n",
        "!pip install praw\n",
        "!pip install nltk"
      ],
      "metadata": {
        "colab": {
          "base_uri": "https://localhost:8080/"
        },
        "id": "8Fkj5A7Y9NxO",
        "outputId": "2e0343bd-7a68-4952-c94c-24a6d4e6146c"
      },
      "execution_count": 2,
      "outputs": [
        {
          "output_type": "stream",
          "name": "stdout",
          "text": [
            "Looking in indexes: https://pypi.org/simple, https://us-python.pkg.dev/colab-wheels/public/simple/\n",
            "Collecting asyncpraw\n",
            "  Downloading asyncpraw-7.5.0-py3-none-any.whl (183 kB)\n",
            "\u001b[K     |████████████████████████████████| 183 kB 20.2 MB/s \n",
            "\u001b[?25hCollecting aiofiles<=0.6.0\n",
            "  Downloading aiofiles-0.6.0-py3-none-any.whl (11 kB)\n",
            "Collecting asyncio-extras<=1.3.2\n",
            "  Downloading asyncio_extras-1.3.2-py3-none-any.whl (8.4 kB)\n",
            "Collecting update-checker>=0.18\n",
            "  Downloading update_checker-0.18.0-py3-none-any.whl (7.0 kB)\n",
            "Collecting aiosqlite<=0.17.0\n",
            "  Downloading aiosqlite-0.17.0-py3-none-any.whl (15 kB)\n",
            "Collecting asyncprawcore<3,>=2.1\n",
            "  Downloading asyncprawcore-2.3.0-py3-none-any.whl (18 kB)\n",
            "Requirement already satisfied: typing_extensions>=3.7.2 in /usr/local/lib/python3.7/dist-packages (from aiosqlite<=0.17.0->asyncpraw) (4.1.1)\n",
            "Collecting async-generator>=1.3\n",
            "  Downloading async_generator-1.10-py3-none-any.whl (18 kB)\n",
            "Requirement already satisfied: aiohttp in /usr/local/lib/python3.7/dist-packages (from asyncprawcore<3,>=2.1->asyncpraw) (3.8.1)\n",
            "Requirement already satisfied: yarl in /usr/local/lib/python3.7/dist-packages (from asyncprawcore<3,>=2.1->asyncpraw) (1.8.1)\n",
            "Requirement already satisfied: requests>=2.3.0 in /usr/local/lib/python3.7/dist-packages (from update-checker>=0.18->asyncpraw) (2.23.0)\n",
            "Requirement already satisfied: idna<3,>=2.5 in /usr/local/lib/python3.7/dist-packages (from requests>=2.3.0->update-checker>=0.18->asyncpraw) (2.10)\n",
            "Requirement already satisfied: certifi>=2017.4.17 in /usr/local/lib/python3.7/dist-packages (from requests>=2.3.0->update-checker>=0.18->asyncpraw) (2022.6.15)\n",
            "Requirement already satisfied: chardet<4,>=3.0.2 in /usr/local/lib/python3.7/dist-packages (from requests>=2.3.0->update-checker>=0.18->asyncpraw) (3.0.4)\n",
            "Requirement already satisfied: urllib3!=1.25.0,!=1.25.1,<1.26,>=1.21.1 in /usr/local/lib/python3.7/dist-packages (from requests>=2.3.0->update-checker>=0.18->asyncpraw) (1.24.3)\n",
            "Requirement already satisfied: attrs>=17.3.0 in /usr/local/lib/python3.7/dist-packages (from aiohttp->asyncprawcore<3,>=2.1->asyncpraw) (22.1.0)\n",
            "Requirement already satisfied: asynctest==0.13.0 in /usr/local/lib/python3.7/dist-packages (from aiohttp->asyncprawcore<3,>=2.1->asyncpraw) (0.13.0)\n",
            "Requirement already satisfied: charset-normalizer<3.0,>=2.0 in /usr/local/lib/python3.7/dist-packages (from aiohttp->asyncprawcore<3,>=2.1->asyncpraw) (2.1.1)\n",
            "Requirement already satisfied: frozenlist>=1.1.1 in /usr/local/lib/python3.7/dist-packages (from aiohttp->asyncprawcore<3,>=2.1->asyncpraw) (1.3.1)\n",
            "Requirement already satisfied: aiosignal>=1.1.2 in /usr/local/lib/python3.7/dist-packages (from aiohttp->asyncprawcore<3,>=2.1->asyncpraw) (1.2.0)\n",
            "Requirement already satisfied: async-timeout<5.0,>=4.0.0a3 in /usr/local/lib/python3.7/dist-packages (from aiohttp->asyncprawcore<3,>=2.1->asyncpraw) (4.0.2)\n",
            "Requirement already satisfied: multidict<7.0,>=4.5 in /usr/local/lib/python3.7/dist-packages (from aiohttp->asyncprawcore<3,>=2.1->asyncpraw) (6.0.2)\n",
            "Installing collected packages: async-generator, update-checker, asyncprawcore, asyncio-extras, aiosqlite, aiofiles, asyncpraw\n",
            "Successfully installed aiofiles-0.6.0 aiosqlite-0.17.0 async-generator-1.10 asyncio-extras-1.3.2 asyncpraw-7.5.0 asyncprawcore-2.3.0 update-checker-0.18.0\n",
            "Looking in indexes: https://pypi.org/simple, https://us-python.pkg.dev/colab-wheels/public/simple/\n",
            "Collecting praw\n",
            "  Downloading praw-7.6.0-py3-none-any.whl (188 kB)\n",
            "\u001b[K     |████████████████████████████████| 188 kB 33.9 MB/s \n",
            "\u001b[?25hRequirement already satisfied: update-checker>=0.18 in /usr/local/lib/python3.7/dist-packages (from praw) (0.18.0)\n",
            "Collecting websocket-client>=0.54.0\n",
            "  Downloading websocket_client-1.4.1-py3-none-any.whl (55 kB)\n",
            "\u001b[K     |████████████████████████████████| 55 kB 3.1 MB/s \n",
            "\u001b[?25hCollecting prawcore<3,>=2.1\n",
            "  Downloading prawcore-2.3.0-py3-none-any.whl (16 kB)\n",
            "Requirement already satisfied: requests<3.0,>=2.6.0 in /usr/local/lib/python3.7/dist-packages (from prawcore<3,>=2.1->praw) (2.23.0)\n",
            "Requirement already satisfied: certifi>=2017.4.17 in /usr/local/lib/python3.7/dist-packages (from requests<3.0,>=2.6.0->prawcore<3,>=2.1->praw) (2022.6.15)\n",
            "Requirement already satisfied: chardet<4,>=3.0.2 in /usr/local/lib/python3.7/dist-packages (from requests<3.0,>=2.6.0->prawcore<3,>=2.1->praw) (3.0.4)\n",
            "Requirement already satisfied: idna<3,>=2.5 in /usr/local/lib/python3.7/dist-packages (from requests<3.0,>=2.6.0->prawcore<3,>=2.1->praw) (2.10)\n",
            "Requirement already satisfied: urllib3!=1.25.0,!=1.25.1,<1.26,>=1.21.1 in /usr/local/lib/python3.7/dist-packages (from requests<3.0,>=2.6.0->prawcore<3,>=2.1->praw) (1.24.3)\n",
            "Installing collected packages: websocket-client, prawcore, praw\n",
            "Successfully installed praw-7.6.0 prawcore-2.3.0 websocket-client-1.4.1\n",
            "Looking in indexes: https://pypi.org/simple, https://us-python.pkg.dev/colab-wheels/public/simple/\n",
            "Requirement already satisfied: nltk in /usr/local/lib/python3.7/dist-packages (3.7)\n",
            "Requirement already satisfied: joblib in /usr/local/lib/python3.7/dist-packages (from nltk) (1.1.0)\n",
            "Requirement already satisfied: click in /usr/local/lib/python3.7/dist-packages (from nltk) (7.1.2)\n",
            "Requirement already satisfied: regex>=2021.8.3 in /usr/local/lib/python3.7/dist-packages (from nltk) (2022.6.2)\n",
            "Requirement already satisfied: tqdm in /usr/local/lib/python3.7/dist-packages (from nltk) (4.64.1)\n"
          ]
        }
      ]
    },
    {
      "cell_type": "code",
      "execution_count": 113,
      "metadata": {
        "colab": {
          "base_uri": "https://localhost:8080/"
        },
        "id": "nku7VmJ5a_qv",
        "outputId": "7101c8a1-0390-46c1-b5b3-13f6681f3d86"
      },
      "outputs": [
        {
          "output_type": "stream",
          "name": "stderr",
          "text": [
            "[nltk_data] Downloading package punkt to /root/nltk_data...\n",
            "[nltk_data]   Package punkt is already up-to-date!\n",
            "[nltk_data] Downloading package stopwords to /root/nltk_data...\n",
            "[nltk_data]   Package stopwords is already up-to-date!\n"
          ]
        }
      ],
      "source": [
        "import asyncpraw\n",
        "import praw\n",
        "from praw.models import MoreComments\n",
        "import pandas as pd\n",
        "import nltk\n",
        "nltk.download('punkt')\n",
        "nltk.download('stopwords')\n",
        "from nltk.tokenize import sent_tokenize, word_tokenize\n",
        "from nltk.corpus import stopwords\n",
        "from nltk.tokenize import word_tokenize\n",
        "from nltk.stem import PorterStemmer\n",
        "from nltk.tokenize import word_tokenize\n",
        "from nltk.stem.snowball import SnowballStemmer\n",
        "import re\n"
      ]
    },
    {
      "cell_type": "code",
      "source": [
        "reddit = praw.Reddit(\n",
        "    client_id=\"BE3T0CMpNrtqLT97yL6XiA\",\n",
        "    client_secret = \"gJnvUXTK0gCnj3UMGSUtw0JW35tN1A\",\n",
        "    password = \"Hannah00!!@\",\n",
        "    user_agent = \"spidey by u/rudyboycav\",\n",
        "    username = \"rudyboycav\",\n",
        ")"
      ],
      "metadata": {
        "id": "uGPmOIdZbxmJ"
      },
      "execution_count": 4,
      "outputs": []
    },
    {
      "cell_type": "code",
      "source": [
        "def reddit_scraper(reddit, subreddit_page, limit):\n",
        "  df = pd.DataFrame()\n",
        "  subreddit = reddit.subreddit(subreddit_page)\n",
        "  hot_topic = subreddit.hot(limit=limit)\n",
        "\n",
        "  for x in hot_topic: \n",
        "    c = x.comments.list()\n",
        "    for y in c:\n",
        "      if isinstance(y, MoreComments):\n",
        "        continue\n",
        "      df = df.append({#'subreddit': subreddit_page,\n",
        "                      #'id': x.id,\n",
        "                      #'title': x.title,\n",
        "                      #'author': x.author,\n",
        "                      'comments': y.body},\n",
        "                      ignore_index=True) \n",
        "\n",
        "  return df"
      ],
      "metadata": {
        "id": "n7p4ayjnb0do"
      },
      "execution_count": 94,
      "outputs": []
    },
    {
      "cell_type": "code",
      "source": [
        "wall = reddit_scraper(reddit, 'wallstreetbets', 2)"
      ],
      "metadata": {
        "colab": {
          "base_uri": "https://localhost:8080/"
        },
        "id": "4I8vxzJQJZd7",
        "outputId": "5ce6e4f3-1727-4549-a756-e6145ff7ec2a"
      },
      "execution_count": 95,
      "outputs": [
        {
          "output_type": "stream",
          "name": "stderr",
          "text": [
            "WARNING:praw:It appears that you are using PRAW in an asynchronous environment.\n",
            "It is strongly recommended to use Async PRAW: https://asyncpraw.readthedocs.io.\n",
            "See https://praw.readthedocs.io/en/latest/getting_started/multiple_instances.html#discord-bots-and-asynchronous-environments for more info.\n",
            "\n",
            "WARNING:praw:It appears that you are using PRAW in an asynchronous environment.\n",
            "It is strongly recommended to use Async PRAW: https://asyncpraw.readthedocs.io.\n",
            "See https://praw.readthedocs.io/en/latest/getting_started/multiple_instances.html#discord-bots-and-asynchronous-environments for more info.\n",
            "\n",
            "WARNING:praw:It appears that you are using PRAW in an asynchronous environment.\n",
            "It is strongly recommended to use Async PRAW: https://asyncpraw.readthedocs.io.\n",
            "See https://praw.readthedocs.io/en/latest/getting_started/multiple_instances.html#discord-bots-and-asynchronous-environments for more info.\n",
            "\n"
          ]
        }
      ]
    },
    {
      "cell_type": "code",
      "source": [
        "wall.head()"
      ],
      "metadata": {
        "colab": {
          "base_uri": "https://localhost:8080/",
          "height": 206
        },
        "id": "QLHZ5AAuvPXs",
        "outputId": "45c3b248-4d09-45e3-e8da-d6a0e34f2999"
      },
      "execution_count": 96,
      "outputs": [
        {
          "output_type": "execute_result",
          "data": {
            "text/plain": [
              "                                            comments\n",
              "0      Which emojis should we replace and with what?\n",
              "1  Literally nothing  \\nBulls: is this the Fed pi...\n",
              "2  If the S&P 500 is down 20% year to date and my...\n",
              "3  FedEx “the economy is dooooomed” really it’s j...\n",
              "4  I’m about to get drunk as fuck and eat some fr..."
            ],
            "text/html": [
              "\n",
              "  <div id=\"df-068ad43d-bf35-43da-a107-f829415fb2ab\">\n",
              "    <div class=\"colab-df-container\">\n",
              "      <div>\n",
              "<style scoped>\n",
              "    .dataframe tbody tr th:only-of-type {\n",
              "        vertical-align: middle;\n",
              "    }\n",
              "\n",
              "    .dataframe tbody tr th {\n",
              "        vertical-align: top;\n",
              "    }\n",
              "\n",
              "    .dataframe thead th {\n",
              "        text-align: right;\n",
              "    }\n",
              "</style>\n",
              "<table border=\"1\" class=\"dataframe\">\n",
              "  <thead>\n",
              "    <tr style=\"text-align: right;\">\n",
              "      <th></th>\n",
              "      <th>comments</th>\n",
              "    </tr>\n",
              "  </thead>\n",
              "  <tbody>\n",
              "    <tr>\n",
              "      <th>0</th>\n",
              "      <td>Which emojis should we replace and with what?</td>\n",
              "    </tr>\n",
              "    <tr>\n",
              "      <th>1</th>\n",
              "      <td>Literally nothing  \\nBulls: is this the Fed pi...</td>\n",
              "    </tr>\n",
              "    <tr>\n",
              "      <th>2</th>\n",
              "      <td>If the S&amp;P 500 is down 20% year to date and my...</td>\n",
              "    </tr>\n",
              "    <tr>\n",
              "      <th>3</th>\n",
              "      <td>FedEx “the economy is dooooomed” really it’s j...</td>\n",
              "    </tr>\n",
              "    <tr>\n",
              "      <th>4</th>\n",
              "      <td>I’m about to get drunk as fuck and eat some fr...</td>\n",
              "    </tr>\n",
              "  </tbody>\n",
              "</table>\n",
              "</div>\n",
              "      <button class=\"colab-df-convert\" onclick=\"convertToInteractive('df-068ad43d-bf35-43da-a107-f829415fb2ab')\"\n",
              "              title=\"Convert this dataframe to an interactive table.\"\n",
              "              style=\"display:none;\">\n",
              "        \n",
              "  <svg xmlns=\"http://www.w3.org/2000/svg\" height=\"24px\"viewBox=\"0 0 24 24\"\n",
              "       width=\"24px\">\n",
              "    <path d=\"M0 0h24v24H0V0z\" fill=\"none\"/>\n",
              "    <path d=\"M18.56 5.44l.94 2.06.94-2.06 2.06-.94-2.06-.94-.94-2.06-.94 2.06-2.06.94zm-11 1L8.5 8.5l.94-2.06 2.06-.94-2.06-.94L8.5 2.5l-.94 2.06-2.06.94zm10 10l.94 2.06.94-2.06 2.06-.94-2.06-.94-.94-2.06-.94 2.06-2.06.94z\"/><path d=\"M17.41 7.96l-1.37-1.37c-.4-.4-.92-.59-1.43-.59-.52 0-1.04.2-1.43.59L10.3 9.45l-7.72 7.72c-.78.78-.78 2.05 0 2.83L4 21.41c.39.39.9.59 1.41.59.51 0 1.02-.2 1.41-.59l7.78-7.78 2.81-2.81c.8-.78.8-2.07 0-2.86zM5.41 20L4 18.59l7.72-7.72 1.47 1.35L5.41 20z\"/>\n",
              "  </svg>\n",
              "      </button>\n",
              "      \n",
              "  <style>\n",
              "    .colab-df-container {\n",
              "      display:flex;\n",
              "      flex-wrap:wrap;\n",
              "      gap: 12px;\n",
              "    }\n",
              "\n",
              "    .colab-df-convert {\n",
              "      background-color: #E8F0FE;\n",
              "      border: none;\n",
              "      border-radius: 50%;\n",
              "      cursor: pointer;\n",
              "      display: none;\n",
              "      fill: #1967D2;\n",
              "      height: 32px;\n",
              "      padding: 0 0 0 0;\n",
              "      width: 32px;\n",
              "    }\n",
              "\n",
              "    .colab-df-convert:hover {\n",
              "      background-color: #E2EBFA;\n",
              "      box-shadow: 0px 1px 2px rgba(60, 64, 67, 0.3), 0px 1px 3px 1px rgba(60, 64, 67, 0.15);\n",
              "      fill: #174EA6;\n",
              "    }\n",
              "\n",
              "    [theme=dark] .colab-df-convert {\n",
              "      background-color: #3B4455;\n",
              "      fill: #D2E3FC;\n",
              "    }\n",
              "\n",
              "    [theme=dark] .colab-df-convert:hover {\n",
              "      background-color: #434B5C;\n",
              "      box-shadow: 0px 1px 3px 1px rgba(0, 0, 0, 0.15);\n",
              "      filter: drop-shadow(0px 1px 2px rgba(0, 0, 0, 0.3));\n",
              "      fill: #FFFFFF;\n",
              "    }\n",
              "  </style>\n",
              "\n",
              "      <script>\n",
              "        const buttonEl =\n",
              "          document.querySelector('#df-068ad43d-bf35-43da-a107-f829415fb2ab button.colab-df-convert');\n",
              "        buttonEl.style.display =\n",
              "          google.colab.kernel.accessAllowed ? 'block' : 'none';\n",
              "\n",
              "        async function convertToInteractive(key) {\n",
              "          const element = document.querySelector('#df-068ad43d-bf35-43da-a107-f829415fb2ab');\n",
              "          const dataTable =\n",
              "            await google.colab.kernel.invokeFunction('convertToInteractive',\n",
              "                                                     [key], {});\n",
              "          if (!dataTable) return;\n",
              "\n",
              "          const docLinkHtml = 'Like what you see? Visit the ' +\n",
              "            '<a target=\"_blank\" href=https://colab.research.google.com/notebooks/data_table.ipynb>data table notebook</a>'\n",
              "            + ' to learn more about interactive tables.';\n",
              "          element.innerHTML = '';\n",
              "          dataTable['output_type'] = 'display_data';\n",
              "          await google.colab.output.renderOutput(dataTable, element);\n",
              "          const docLink = document.createElement('div');\n",
              "          docLink.innerHTML = docLinkHtml;\n",
              "          element.appendChild(docLink);\n",
              "        }\n",
              "      </script>\n",
              "    </div>\n",
              "  </div>\n",
              "  "
            ]
          },
          "metadata": {},
          "execution_count": 96
        }
      ]
    },
    {
      "cell_type": "code",
      "source": [
        "for x in wall.comments:\n",
        "  print(x)"
      ],
      "metadata": {
        "id": "zzUQ1MuF8m5w"
      },
      "execution_count": null,
      "outputs": []
    },
    {
      "cell_type": "code",
      "source": [
        "def cleaning_text(df):\n",
        "  punc = '''!()-[]{};:'\"\\,<>./?@$%^&*_~'''\n",
        "\n",
        "  for words in df:\n",
        "    if words in punc:\n",
        "      cleaned_text = df.replace(words, \"\").str.split()\n",
        "  \n",
        "  return cleaned_text\n",
        "\n",
        "cleaned_text = cleaning_text(wall.comments)"
      ],
      "metadata": {
        "id": "u56hb9pern9t"
      },
      "execution_count": 237,
      "outputs": []
    },
    {
      "cell_type": "code",
      "source": [
        "for x in cleaned_text:\n",
        "  if str(x.isupper()):\n",
        "    print(x)"
      ],
      "metadata": {
        "id": "cdq1vl8gK72i",
        "outputId": "d670e9cc-8279-43cb-b13e-ee8f37266495",
        "colab": {
          "base_uri": "https://localhost:8080/",
          "height": 200
        }
      },
      "execution_count": 248,
      "outputs": [
        {
          "output_type": "error",
          "ename": "AttributeError",
          "evalue": "ignored",
          "traceback": [
            "\u001b[0;31m---------------------------------------------------------------------------\u001b[0m",
            "\u001b[0;31mAttributeError\u001b[0m                            Traceback (most recent call last)",
            "\u001b[0;32m<ipython-input-248-1a6c8651fb99>\u001b[0m in \u001b[0;36m<module>\u001b[0;34m\u001b[0m\n\u001b[1;32m      1\u001b[0m \u001b[0;32mfor\u001b[0m \u001b[0mx\u001b[0m \u001b[0;32min\u001b[0m \u001b[0mcleaned_text\u001b[0m\u001b[0;34m:\u001b[0m\u001b[0;34m\u001b[0m\u001b[0;34m\u001b[0m\u001b[0m\n\u001b[0;32m----> 2\u001b[0;31m   \u001b[0;32mif\u001b[0m \u001b[0mstr\u001b[0m\u001b[0;34m(\u001b[0m\u001b[0mx\u001b[0m\u001b[0;34m.\u001b[0m\u001b[0misupper\u001b[0m\u001b[0;34m(\u001b[0m\u001b[0;34m)\u001b[0m\u001b[0;34m)\u001b[0m\u001b[0;34m:\u001b[0m\u001b[0;34m\u001b[0m\u001b[0;34m\u001b[0m\u001b[0m\n\u001b[0m\u001b[1;32m      3\u001b[0m     \u001b[0mprint\u001b[0m\u001b[0;34m(\u001b[0m\u001b[0mx\u001b[0m\u001b[0;34m)\u001b[0m\u001b[0;34m\u001b[0m\u001b[0;34m\u001b[0m\u001b[0m\n",
            "\u001b[0;31mAttributeError\u001b[0m: 'list' object has no attribute 'isupper'"
          ]
        }
      ]
    },
    {
      "cell_type": "code",
      "source": [
        "cleaned_text"
      ],
      "metadata": {
        "id": "kVM0FAW5wFR9",
        "outputId": "3a413141-33f4-430a-963d-fa59459192bb",
        "colab": {
          "base_uri": "https://localhost:8080/"
        }
      },
      "execution_count": 227,
      "outputs": [
        {
          "output_type": "execute_result",
          "data": {
            "text/plain": [
              "['0',\n",
              " 'Which',\n",
              " 'emojis',\n",
              " 'should',\n",
              " 'we',\n",
              " 'replace',\n",
              " 'and',\n",
              " 'with',\n",
              " 'what',\n",
              " '1',\n",
              " 'Literally',\n",
              " 'nothing',\n",
              " '\\\\nBulls',\n",
              " 'is',\n",
              " 'this',\n",
              " 'the',\n",
              " 'Fed',\n",
              " 'piv',\n",
              " '...',\n",
              " '2',\n",
              " 'If',\n",
              " 'the',\n",
              " 'SP',\n",
              " '500',\n",
              " 'is',\n",
              " 'down',\n",
              " '20',\n",
              " 'year',\n",
              " 'to',\n",
              " 'date',\n",
              " 'and',\n",
              " 'my',\n",
              " 'a',\n",
              " '...',\n",
              " '3',\n",
              " 'FedEx',\n",
              " 'the',\n",
              " 'economy',\n",
              " 'is',\n",
              " 'dooooomed',\n",
              " 'really',\n",
              " 'its',\n",
              " 'just',\n",
              " '...',\n",
              " '4',\n",
              " 'Im',\n",
              " 'about',\n",
              " 'to',\n",
              " 'get',\n",
              " 'drunk',\n",
              " 'as',\n",
              " 'fuck',\n",
              " 'and',\n",
              " 'eat',\n",
              " 'some',\n",
              " 'fri',\n",
              " '...',\n",
              " '...',\n",
              " '971',\n",
              " 'Its',\n",
              " 'very',\n",
              " 'easy',\n",
              " 'to',\n",
              " 'say',\n",
              " 'these',\n",
              " 'things',\n",
              " 'in',\n",
              " 'hindsight',\n",
              " '...',\n",
              " '972',\n",
              " 'Its',\n",
              " 'the',\n",
              " 'regarded',\n",
              " 'way',\n",
              " 'You',\n",
              " 'might',\n",
              " 'be',\n",
              " 'too',\n",
              " 'intellig',\n",
              " '...',\n",
              " '973',\n",
              " 'This',\n",
              " 'is',\n",
              " 'refreshing',\n",
              " '974',\n",
              " 'I',\n",
              " 'did',\n",
              " 'not',\n",
              " 'mean',\n",
              " 'one',\n",
              " 'company',\n",
              " 'sorry',\n",
              " 'about',\n",
              " 'that',\n",
              " 'I',\n",
              " '...',\n",
              " '975',\n",
              " 'and',\n",
              " 'thats',\n",
              " 'why',\n",
              " 'you',\n",
              " 'should',\n",
              " 'never',\n",
              " 'get',\n",
              " 'married',\n",
              " 'to',\n",
              " '...',\n",
              " 'Name',\n",
              " ':',\n",
              " 'comments',\n",
              " ',',\n",
              " 'Length',\n",
              " ':',\n",
              " '976',\n",
              " ',',\n",
              " 'dtype',\n",
              " ':',\n",
              " 'object']"
            ]
          },
          "metadata": {},
          "execution_count": 227
        }
      ]
    },
    {
      "cell_type": "code",
      "source": [
        "for x in cleaned_text:\n",
        "  if x.isupper():\n",
        "    print(x)"
      ],
      "metadata": {
        "id": "U6ojEhvpFjIR",
        "outputId": "94212e37-a675-4838-c58f-ec9ee8b532ea",
        "colab": {
          "base_uri": "https://localhost:8080/"
        }
      },
      "execution_count": 212,
      "outputs": [
        {
          "output_type": "stream",
          "name": "stdout",
          "text": [
            "IM GONNA DIP MY WIENER IN SUGAR WATER  THEN GO OUTSIDE AND LET BUTTERFLIES LAND ON IT\n",
            "FIGHTING THE AMBIEN AND SHITPOSTIN\n",
            "G L O B A L D E P R E S S I O N\n",
            "\n",
            "L\n",
            "\n",
            "O\n",
            "\n",
            "B\n",
            "\n",
            "A\n",
            "\n",
            "L\n",
            "\n",
            "D\n",
            "\n",
            "R\n",
            "\n",
            "E\n",
            "\n",
            "S\n",
            "\n",
            "S\n",
            "\n",
            "I\n",
            "\n",
            "O\n",
            "\n",
            "N\n",
            "LETS FUCKING GO WHO MADE MONEY\n",
            "OMG HES BACK\n",
            "HAHAHAH WTF\n",
            "RIP\n",
            "F\n",
            "TAKE THIS UPVOTE AND DO IT AGAIN FOR MORE\n"
          ]
        }
      ]
    },
    {
      "cell_type": "code",
      "source": [
        "def tokenize(df):\n",
        "  for words in wall:\n",
        "    tokenize = word_tokenize(words)\n",
        "  return tokenize\n",
        "\n",
        "tokenized_words = tokenize(wall)"
      ],
      "metadata": {
        "id": "4U4mx8Gk309X"
      },
      "execution_count": null,
      "outputs": []
    },
    {
      "cell_type": "code",
      "source": [
        "stop_words = set(stopwords.words(\"english\"))"
      ],
      "metadata": {
        "id": "nHzMbVP5adSQ"
      },
      "execution_count": null,
      "outputs": []
    },
    {
      "cell_type": "code",
      "source": [
        "def stopwords(df):\n",
        "  #stop_words = set(stopwords.words(\"english\"))\n",
        "  filtered_words = [word for word in df if word.casefold() not in stop_words]\n",
        "  return filtered_words\n",
        "\n",
        "filtered_stopwords = stopwords(tokenized_words)\n",
        "filtered_stopwords"
      ],
      "metadata": {
        "id": "VYfK6k0xQTgQ",
        "outputId": "5df7aa31-ca16-471e-b7e7-713ced849e40",
        "colab": {
          "base_uri": "https://localhost:8080/"
        }
      },
      "execution_count": null,
      "outputs": [
        {
          "output_type": "execute_result",
          "data": {
            "text/plain": [
              "['time', 'Chuck', 'Norris', 'wrong', 'thought', 'made', 'mistake', '...']"
            ]
          },
          "metadata": {},
          "execution_count": 83
        }
      ]
    },
    {
      "cell_type": "code",
      "source": [
        "def stemming(df):\n",
        "  stemmed_list = []\n",
        "  snow_stemmer = SnowballStemmer(language='english')\n",
        "  \n",
        "  for words in filtered_stopwords:\n",
        "    stemmer = snow_stemmer.stem(words)\n",
        "    stemmed_list.append(stemmer)\n",
        "  return stemmed_list\n",
        "\n",
        "stemmed_words = stemming(filtered_stopwords)\n",
        "stemmed_words"
      ],
      "metadata": {
        "id": "FOVyyFnfbWCn",
        "outputId": "fc426104-d4e2-48e6-e19d-1c9072a7800c",
        "colab": {
          "base_uri": "https://localhost:8080/"
        }
      },
      "execution_count": null,
      "outputs": [
        {
          "output_type": "execute_result",
          "data": {
            "text/plain": [
              "['time', 'chuck', 'norri', 'wrong', 'thought', 'made', 'mistak', '...']"
            ]
          },
          "metadata": {},
          "execution_count": 84
        }
      ]
    },
    {
      "cell_type": "code",
      "source": [
        "subreddit = await reddit.subreddit(\"wallstreetbets\")\n",
        "async for x in subreddit.hot(limit=3):\n",
        "    print('THREAD: {}'.format(x.title))\n",
        "    print('USER: {}'.format(x.author))\n",
        "\n",
        "    print(x.comments)\n",
        "    \n",
        "\n"
      ],
      "metadata": {
        "colab": {
          "base_uri": "https://localhost:8080/",
          "height": 235
        },
        "id": "XokRICz09DHv",
        "outputId": "03eded39-f3b4-448e-ec02-deb038f560c4"
      },
      "execution_count": null,
      "outputs": [
        {
          "output_type": "error",
          "ename": "TypeError",
          "evalue": "ignored",
          "traceback": [
            "\u001b[0;31m---------------------------------------------------------------------------\u001b[0m",
            "\u001b[0;31mTypeError\u001b[0m                                 Traceback (most recent call last)",
            "\u001b[0;32m<ipython-input-85-f53adf9474e9>\u001b[0m in \u001b[0;36masync-def-wrapper\u001b[0;34m()\u001b[0m\n\u001b[1;32m      2\u001b[0m \u001b[0;32masync\u001b[0m \u001b[0;32mfor\u001b[0m \u001b[0mx\u001b[0m \u001b[0;32min\u001b[0m \u001b[0msubreddit\u001b[0m\u001b[0;34m.\u001b[0m\u001b[0mhot\u001b[0m\u001b[0;34m(\u001b[0m\u001b[0mlimit\u001b[0m\u001b[0;34m=\u001b[0m\u001b[0;36m3\u001b[0m\u001b[0;34m)\u001b[0m\u001b[0;34m:\u001b[0m\u001b[0;34m\u001b[0m\u001b[0;34m\u001b[0m\u001b[0m\n\u001b[1;32m      3\u001b[0m     \u001b[0mprint\u001b[0m\u001b[0;34m(\u001b[0m\u001b[0;34m'THREAD: {}'\u001b[0m\u001b[0;34m.\u001b[0m\u001b[0mformat\u001b[0m\u001b[0;34m(\u001b[0m\u001b[0mx\u001b[0m\u001b[0;34m.\u001b[0m\u001b[0mtitle\u001b[0m\u001b[0;34m)\u001b[0m\u001b[0;34m)\u001b[0m\u001b[0;34m\u001b[0m\u001b[0;34m\u001b[0m\u001b[0m\n\u001b[0;32m----> 4\u001b[0;31m     \u001b[0mprint\u001b[0m\u001b[0;34m(\u001b[0m\u001b[0;34m'USER: {}'\u001b[0m\u001b[0;34m.\u001b[0m\u001b[0mformat\u001b[0m\u001b[0;34m(\u001b[0m\u001b[0mx\u001b[0m\u001b[0;34m.\u001b[0m\u001b[0mauthor\u001b[0m\u001b[0;34m)\u001b[0m\u001b[0;34m)\u001b[0m\u001b[0;34m\u001b[0m\u001b[0;34m\u001b[0m\u001b[0m\n\u001b[0m\u001b[1;32m      5\u001b[0m \u001b[0;34m\u001b[0m\u001b[0m\n\u001b[1;32m      6\u001b[0m     \u001b[0mprint\u001b[0m\u001b[0;34m(\u001b[0m\u001b[0mx\u001b[0m\u001b[0;34m.\u001b[0m\u001b[0mcomments\u001b[0m\u001b[0;34m)\u001b[0m\u001b[0;34m\u001b[0m\u001b[0;34m\u001b[0m\u001b[0m\n",
            "\u001b[0;31mTypeError\u001b[0m: object Subreddit can't be used in 'await' expression"
          ]
        }
      ]
    }
  ]
}