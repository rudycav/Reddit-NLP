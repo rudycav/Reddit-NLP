{
  "nbformat": 4,
  "nbformat_minor": 0,
  "metadata": {
    "colab": {
      "provenance": [],
      "authorship_tag": "ABX9TyPg9E5dWNXN4EhySRhuZQeJ",
      "include_colab_link": true
    },
    "kernelspec": {
      "name": "python3",
      "display_name": "Python 3"
    },
    "language_info": {
      "name": "python"
    }
  },
  "cells": [
    {
      "cell_type": "markdown",
      "metadata": {
        "id": "view-in-github",
        "colab_type": "text"
      },
      "source": [
        "<a href=\"https://colab.research.google.com/github/rudycav/RedditScraper/blob/edit/Project/r.ipynb\" target=\"_parent\"><img src=\"https://colab.research.google.com/assets/colab-badge.svg\" alt=\"Open In Colab\"/></a>"
      ]
    },
    {
      "cell_type": "code",
      "source": [
        "!pip install praw\n",
        "!pip install nltk"
      ],
      "metadata": {
        "colab": {
          "base_uri": "https://localhost:8080/"
        },
        "id": "8Fkj5A7Y9NxO",
        "outputId": "e1005537-ef10-4fd6-aa9c-39dd887a428f"
      },
      "execution_count": 1,
      "outputs": [
        {
          "output_type": "stream",
          "name": "stdout",
          "text": [
            "Looking in indexes: https://pypi.org/simple, https://us-python.pkg.dev/colab-wheels/public/simple/\n",
            "Collecting praw\n",
            "  Downloading praw-7.6.1-py3-none-any.whl (188 kB)\n",
            "\u001b[?25l     \u001b[90m━━━━━━━━━━━━━━━━━━━━━━━━━━━━━━━━━━━━━━━━\u001b[0m \u001b[32m0.0/188.8 KB\u001b[0m \u001b[31m?\u001b[0m eta \u001b[36m-:--:--\u001b[0m\r\u001b[2K     \u001b[90m━━━━━━━━━━━━━━━━━━━━━━━━━━━━━━━━━━━━━━\u001b[0m \u001b[32m188.8/188.8 KB\u001b[0m \u001b[31m14.0 MB/s\u001b[0m eta \u001b[36m0:00:00\u001b[0m\n",
            "\u001b[?25hCollecting prawcore<3,>=2.1\n",
            "  Downloading prawcore-2.3.0-py3-none-any.whl (16 kB)\n",
            "Collecting websocket-client>=0.54.0\n",
            "  Downloading websocket_client-1.4.2-py3-none-any.whl (55 kB)\n",
            "\u001b[2K     \u001b[90m━━━━━━━━━━━━━━━━━━━━━━━━━━━━━━━━━━━━━━━━\u001b[0m \u001b[32m55.3/55.3 KB\u001b[0m \u001b[31m7.4 MB/s\u001b[0m eta \u001b[36m0:00:00\u001b[0m\n",
            "\u001b[?25hCollecting update-checker>=0.18\n",
            "  Downloading update_checker-0.18.0-py3-none-any.whl (7.0 kB)\n",
            "Requirement already satisfied: requests<3.0,>=2.6.0 in /usr/local/lib/python3.8/dist-packages (from prawcore<3,>=2.1->praw) (2.25.1)\n",
            "Requirement already satisfied: urllib3<1.27,>=1.21.1 in /usr/local/lib/python3.8/dist-packages (from requests<3.0,>=2.6.0->prawcore<3,>=2.1->praw) (1.24.3)\n",
            "Requirement already satisfied: chardet<5,>=3.0.2 in /usr/local/lib/python3.8/dist-packages (from requests<3.0,>=2.6.0->prawcore<3,>=2.1->praw) (4.0.0)\n",
            "Requirement already satisfied: certifi>=2017.4.17 in /usr/local/lib/python3.8/dist-packages (from requests<3.0,>=2.6.0->prawcore<3,>=2.1->praw) (2022.12.7)\n",
            "Requirement already satisfied: idna<3,>=2.5 in /usr/local/lib/python3.8/dist-packages (from requests<3.0,>=2.6.0->prawcore<3,>=2.1->praw) (2.10)\n",
            "Installing collected packages: websocket-client, update-checker, prawcore, praw\n",
            "Successfully installed praw-7.6.1 prawcore-2.3.0 update-checker-0.18.0 websocket-client-1.4.2\n",
            "Looking in indexes: https://pypi.org/simple, https://us-python.pkg.dev/colab-wheels/public/simple/\n",
            "Requirement already satisfied: nltk in /usr/local/lib/python3.8/dist-packages (3.7)\n",
            "Requirement already satisfied: click in /usr/local/lib/python3.8/dist-packages (from nltk) (7.1.2)\n",
            "Requirement already satisfied: joblib in /usr/local/lib/python3.8/dist-packages (from nltk) (1.2.0)\n",
            "Requirement already satisfied: tqdm in /usr/local/lib/python3.8/dist-packages (from nltk) (4.64.1)\n",
            "Requirement already satisfied: regex>=2021.8.3 in /usr/local/lib/python3.8/dist-packages (from nltk) (2022.6.2)\n"
          ]
        }
      ]
    },
    {
      "cell_type": "code",
      "execution_count": 158,
      "metadata": {
        "colab": {
          "base_uri": "https://localhost:8080/"
        },
        "id": "nku7VmJ5a_qv",
        "outputId": "60b9b171-c66d-4704-cc94-6873bafbd01a"
      },
      "outputs": [
        {
          "output_type": "stream",
          "name": "stderr",
          "text": [
            "[nltk_data] Downloading package punkt to /root/nltk_data...\n",
            "[nltk_data]   Package punkt is already up-to-date!\n",
            "[nltk_data] Downloading package stopwords to /root/nltk_data...\n",
            "[nltk_data]   Package stopwords is already up-to-date!\n",
            "[nltk_data] Downloading package wordnet to /root/nltk_data...\n",
            "[nltk_data]   Package wordnet is already up-to-date!\n",
            "[nltk_data] Downloading package omw-1.4 to /root/nltk_data...\n",
            "[nltk_data]   Package omw-1.4 is already up-to-date!\n",
            "[nltk_data] Downloading package vader_lexicon to /root/nltk_data...\n",
            "[nltk_data]   Package vader_lexicon is already up-to-date!\n"
          ]
        }
      ],
      "source": [
        "import praw\n",
        "from praw.models import MoreComments\n",
        "import pandas as pd\n",
        "import matplotlib.pyplot as plt\n",
        "import nltk\n",
        "nltk.download('punkt')\n",
        "nltk.download('stopwords')\n",
        "nltk.download('wordnet')\n",
        "nltk.download('omw-1.4')\n",
        "nltk.download('vader_lexicon')\n",
        "from nltk.sentiment.vader import SentimentIntensityAnalyzer as SIA\n",
        "from nltk.tokenize import word_tokenize, sent_tokenize, RegexpTokenizer\n",
        "from nltk.stem import WordNetLemmatizer\n",
        "from nltk.corpus import stopwords\n",
        "from collections import Counter\n",
        "import re\n",
        "import requests"
      ]
    },
    {
      "cell_type": "code",
      "source": [
        "reddit = praw.Reddit(\n",
        "    client_id=\"\",\n",
        "    client_secret = \"\",\n",
        "    password = \"\",\n",
        "    user_agent = \"\",\n",
        "    username = \"\",\n",
        "    check_for_async=False\n",
        ")\n",
        "\n",
        "url='https://web-api.coinmarketcap.com/v1/cryptocurrency/listings/latest'\n",
        "for start in range(1, 100, 1000):\n",
        "    params = {\n",
        "        'start': start,\n",
        "        'limit': 150,\n",
        "            }\n",
        "    r = requests.get(url, params=params)\n",
        "    data = r.json()\n",
        "\n",
        "ticker = [(crypto['symbol'].lower()) for crypto in (data['data'])]\n",
        "slug = [(crypto['name'].lower()) for crypto in (data['data'])]\n",
        "\n",
        "\n",
        "\n",
        "def reddit_scraper(reddit, subreddit_page, limit):\n",
        "  df = pd.DataFrame()\n",
        "  subreddit = reddit.subreddit(subreddit_page)\n",
        "  hot_topic = subreddit.hot(limit=limit)\n",
        "\n",
        "  for x in hot_topic: \n",
        "    c = x.comments.list()\n",
        "    for y in c:\n",
        "      if isinstance(y, MoreComments):\n",
        "        continue\n",
        "      df = df.append({'title': x.title,\n",
        "                      #'author': y.author,\n",
        "                      'comments': y.body,\n",
        "                      #'upvote_score': y.score\n",
        "                      },                                          \n",
        "                      ignore_index=True) \n",
        "\n",
        "  return df\n",
        "\n",
        "wall = reddit_scraper(reddit, 'CryptoCurrency', 50)"
      ],
      "metadata": {
        "id": "n7p4ayjnb0do"
      },
      "execution_count": 176,
      "outputs": []
    },
    {
      "cell_type": "code",
      "source": [
        "tokenizer = RegexpTokenizer(r'\\w+')\n",
        "stop_words = stopwords.words('english')\n",
        "lemmatizer = WordNetLemmatizer()\n",
        "\n",
        "def text_cleaner(df):\n",
        "    cleaned_text = []\n",
        "    for text in df:\n",
        "        tokenize_words = tokenizer.tokenize(text)      \n",
        "        stop_word_filter = [token.lower() for token in tokenize_words if token.lower() not in stop_words and not token.isdigit()]\n",
        "        lemmitize_words = ([lemmatizer.lemmatize(token) for token in stop_word_filter])\n",
        "        cleaned_text.extend(lemmitize_words)\n",
        "    \n",
        "    return cleaned_text\n",
        "\n",
        "def sentiment_analysis(df):\n",
        "  return text_cleaner(df)\n",
        "\n",
        "comments = text_cleaner(wall.comments)\n",
        "\n",
        "sia = SIA()\n",
        "\n",
        "ps = []\n",
        "for comment in comments:\n",
        "    score = sia.polarity_scores(comment)\n",
        "    score['replies'] = comment\n",
        "    ps.append(score)\n",
        "\n",
        "pol_df = pd.DataFrame.from_records(ps)\n",
        "\n",
        "\n",
        "pol_df['sentiment'] = 0\n",
        "pol_df.loc[pol_df['compound'] > 0.3, 'sentiment'] = 1\n",
        "pol_df.loc[pol_df['compound'] < -0.3, 'sentiment'] = -1\n",
        "\n",
        "\n",
        "bullish = sentiment_analysis(pol_df[pol_df.sentiment==1].replies)\n",
        "bearish = sentiment_analysis(pol_df[pol_df.sentiment==-1].replies)\n",
        "neutral = sentiment_analysis(pol_df[pol_df.sentiment==0].replies)\n",
        "\n",
        "\n",
        "df_bull_ticker = pd.DataFrame(Counter([crypto for bull in bullish for crypto in ticker if bull==crypto]).most_common(5), columns=['Name', 'Frequencies'])\n",
        "df_bull_slug = pd.DataFrame(Counter([crypto for bull in bullish for crypto in slug if bull==crypto]).most_common(5), columns=['Name', 'Frequencies'])\n",
        "\n",
        "df_bear_ticker = pd.DataFrame(Counter([crypto for bear in bearish for crypto in ticker if bear==crypto]).most_common(5), columns=['Name', 'Frequencies'])\n",
        "df_bear_slug = pd.DataFrame(Counter([crypto for bear in bearish for crypto in slug if bear==crypto]).most_common(5), columns=['Name', 'Frequencies'])\n",
        "\n",
        "df_neutral_ticker = pd.DataFrame(Counter([crypto for neu in neutral for crypto in ticker if neu==crypto]).most_common(5), columns=['Name', 'Frequencies'])\n",
        "df_neutral_slug = pd.DataFrame(Counter([crypto for neu in neutral for crypto in slug if neu==crypto]).most_common(5), columns=['Name', 'Frequencies'])"
      ],
      "metadata": {
        "id": "_JuFDzcyI_Ey"
      },
      "execution_count": 198,
      "outputs": []
    },
    {
      "cell_type": "code",
      "source": [
        "fig = plt.figure(figsize = (10, 5))\n",
        "plt.bar(df_neutral_ticker.Name, df_neutral_ticker.Frequencies, color ='maroon',\n",
        "        width = 0.4)\n",
        " \n",
        "plt.ylabel(\"Mentions\")\n",
        "plt.title(\"Neutral Ticker Mentions\")\n",
        "plt.show()"
      ],
      "metadata": {
        "id": "V8OAZfDB_2I0",
        "outputId": "1072901f-4797-46e4-9fcd-0c6508bfc2d2",
        "colab": {
          "base_uri": "https://localhost:8080/",
          "height": 336
        }
      },
      "execution_count": 199,
      "outputs": [
        {
          "output_type": "display_data",
          "data": {
            "text/plain": [
              "<Figure size 720x360 with 1 Axes>"
            ],
            "image/png": "[encoded data removed]"
          },
          "metadata": {
            "needs_background": "light"
          }
        }
      ]
    },
    {
      "cell_type": "code",
      "source": [
        "fig = plt.figure(figsize = (10, 5))\n",
        "plt.bar(df_neutral_slug.Name, df_neutral_slug.Frequencies, color ='maroon',\n",
        "        width = 0.4)\n",
        " \n",
        "\n",
        "plt.ylabel(\"Mentions\")\n",
        "plt.title(\"Neutral Name Mentions\")\n",
        "plt.show()"
      ],
      "metadata": {
        "id": "hVFhkGcnTNQ8",
        "outputId": "01536334-679d-439f-eb74-fad1c45186a3",
        "colab": {
          "base_uri": "https://localhost:8080/",
          "height": 336
        }
      },
      "execution_count": 200,
      "outputs": [
        {
          "output_type": "display_data",
          "data": {
            "text/plain": [
              "<Figure size 720x360 with 1 Axes>"
            ],
            "image/png": "[encoded data removed]"
          },
          "metadata": {
            "needs_background": "light"
          }
        }
      ]
    },
    {
      "cell_type": "code",
      "source": [
        "fig = plt.figure(figsize = (10, 5))\n",
        "plt.bar(df_bull_ticker.Name, df_bull_ticker.Frequencies, color ='maroon',\n",
        "        width = 0.4)\n",
        " \n",
        "\n",
        "plt.ylabel(\"Mentions\")\n",
        "plt.title(\"Bullish Ticker Mentions\")\n",
        "plt.show()"
      ],
      "metadata": {
        "id": "pSNLnL07WC9s",
        "outputId": "c0fb2d80-fc73-4982-e142-e76d0eb99164",
        "colab": {
          "base_uri": "https://localhost:8080/",
          "height": 336
        }
      },
      "execution_count": 201,
      "outputs": [
        {
          "output_type": "display_data",
          "data": {
            "text/plain": [
              "<Figure size 720x360 with 1 Axes>"
            ],
            "image/png": "[encoded data removed]"
          },
          "metadata": {
            "needs_background": "light"
          }
        }
      ]
    },
    {
      "cell_type": "code",
      "source": [
        "fig = plt.figure(figsize = (10, 5))\n",
        "plt.bar(df_bull_slug.Name, df_bull_slug.Frequencies, color ='maroon',\n",
        "        width = 0.4)\n",
        " \n",
        "\n",
        "plt.ylabel(\"Mentions\")\n",
        "plt.title(\"Bullish Name Mentions\")\n",
        "plt.show()"
      ],
      "metadata": {
        "id": "gEiqd25VUrT9",
        "outputId": "3023397d-18c0-4c36-f294-b800240c00b5",
        "colab": {
          "base_uri": "https://localhost:8080/",
          "height": 336
        }
      },
      "execution_count": 202,
      "outputs": [
        {
          "output_type": "display_data",
          "data": {
            "text/plain": [
              "<Figure size 720x360 with 1 Axes>"
            ],
            "image/png": "[encoded data removed]"
          },
          "metadata": {
            "needs_background": "light"
          }
        }
      ]
    },
    {
      "cell_type": "code",
      "source": [
        "fig = plt.figure(figsize = (10, 5))\n",
        "plt.bar(df_bear_ticker.Name, df_bear_ticker.Frequencies, color ='maroon',\n",
        "        width = 0.4)\n",
        " \n",
        "\n",
        "plt.ylabel(\"Mentions\")\n",
        "plt.title(\"Bearish Ticker Mentions\")\n",
        "plt.show()"
      ],
      "metadata": {
        "id": "0w7t-nKwWt98",
        "outputId": "416ce805-30ed-4d49-eec0-82df1f76bf5b",
        "colab": {
          "base_uri": "https://localhost:8080/",
          "height": 336
        }
      },
      "execution_count": 203,
      "outputs": [
        {
          "output_type": "display_data",
          "data": {
            "text/plain": [
              "<Figure size 720x360 with 1 Axes>"
            ],
            "image/png": "[encoded data removed]"
          },
          "metadata": {
            "needs_background": "light"
          }
        }
      ]
    },
    {
      "cell_type": "code",
      "source": [
        "fig = plt.figure(figsize = (10, 5))\n",
        "plt.bar(df_bear_slug.Name, df_bear_slug.Frequencies, color ='maroon',\n",
        "        width = 0.4)\n",
        " \n",
        "\n",
        "plt.ylabel(\"Mentions\")\n",
        "plt.title(\"Bearish Name Mentions\")\n",
        "plt.show()"
      ],
      "metadata": {
        "id": "VN4Z_gNjWj51",
        "outputId": "88c112cc-e9a4-48bc-9617-440571b6ce8b",
        "colab": {
          "base_uri": "https://localhost:8080/",
          "height": 336
        }
      },
      "execution_count": 204,
      "outputs": [
        {
          "output_type": "display_data",
          "data": {
            "text/plain": [
              "<Figure size 720x360 with 1 Axes>"
            ],
            "image/png": "[encoded data removed]"
          },
          "metadata": {
            "needs_background": "light"
          }
        }
      ]
    }
  ]
}